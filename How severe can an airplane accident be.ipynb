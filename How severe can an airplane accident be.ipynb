{
 "cells": [
  {
   "cell_type": "code",
   "execution_count": 145,
   "metadata": {},
   "outputs": [],
   "source": [
    "import pandas as pd\n",
    "import numpy as np\n",
    "import matplotlib.pyplot as plt"
   ]
  },
  {
   "cell_type": "code",
   "execution_count": 146,
   "metadata": {},
   "outputs": [
    {
     "data": {
      "text/html": [
       "<div>\n",
       "<style scoped>\n",
       "    .dataframe tbody tr th:only-of-type {\n",
       "        vertical-align: middle;\n",
       "    }\n",
       "\n",
       "    .dataframe tbody tr th {\n",
       "        vertical-align: top;\n",
       "    }\n",
       "\n",
       "    .dataframe thead th {\n",
       "        text-align: right;\n",
       "    }\n",
       "</style>\n",
       "<table border=\"1\" class=\"dataframe\">\n",
       "  <thead>\n",
       "    <tr style=\"text-align: right;\">\n",
       "      <th></th>\n",
       "      <th>Severity</th>\n",
       "      <th>Safety_Score</th>\n",
       "      <th>Days_Since_Inspection</th>\n",
       "      <th>Total_Safety_Complaints</th>\n",
       "      <th>Control_Metric</th>\n",
       "      <th>Turbulence_In_gforces</th>\n",
       "      <th>Cabin_Temperature</th>\n",
       "      <th>Accident_Type_Code</th>\n",
       "      <th>Max_Elevation</th>\n",
       "      <th>Violations</th>\n",
       "      <th>Adverse_Weather_Metric</th>\n",
       "      <th>Accident_ID</th>\n",
       "    </tr>\n",
       "  </thead>\n",
       "  <tbody>\n",
       "    <tr>\n",
       "      <th>0</th>\n",
       "      <td>Minor_Damage_And_Injuries</td>\n",
       "      <td>49.223744</td>\n",
       "      <td>14</td>\n",
       "      <td>22</td>\n",
       "      <td>71.285324</td>\n",
       "      <td>0.272118</td>\n",
       "      <td>78.04</td>\n",
       "      <td>2</td>\n",
       "      <td>31335.476824</td>\n",
       "      <td>3</td>\n",
       "      <td>0.424352</td>\n",
       "      <td>7570</td>\n",
       "    </tr>\n",
       "    <tr>\n",
       "      <th>1</th>\n",
       "      <td>Minor_Damage_And_Injuries</td>\n",
       "      <td>62.465753</td>\n",
       "      <td>10</td>\n",
       "      <td>27</td>\n",
       "      <td>72.288058</td>\n",
       "      <td>0.423939</td>\n",
       "      <td>84.54</td>\n",
       "      <td>2</td>\n",
       "      <td>26024.711057</td>\n",
       "      <td>2</td>\n",
       "      <td>0.352350</td>\n",
       "      <td>12128</td>\n",
       "    </tr>\n",
       "    <tr>\n",
       "      <th>2</th>\n",
       "      <td>Significant_Damage_And_Fatalities</td>\n",
       "      <td>63.059361</td>\n",
       "      <td>13</td>\n",
       "      <td>16</td>\n",
       "      <td>66.362808</td>\n",
       "      <td>0.322604</td>\n",
       "      <td>78.86</td>\n",
       "      <td>7</td>\n",
       "      <td>39269.053927</td>\n",
       "      <td>3</td>\n",
       "      <td>0.003364</td>\n",
       "      <td>2181</td>\n",
       "    </tr>\n",
       "    <tr>\n",
       "      <th>3</th>\n",
       "      <td>Significant_Damage_And_Serious_Injuries</td>\n",
       "      <td>48.082192</td>\n",
       "      <td>11</td>\n",
       "      <td>9</td>\n",
       "      <td>74.703737</td>\n",
       "      <td>0.337029</td>\n",
       "      <td>81.79</td>\n",
       "      <td>3</td>\n",
       "      <td>42771.499200</td>\n",
       "      <td>1</td>\n",
       "      <td>0.211728</td>\n",
       "      <td>5946</td>\n",
       "    </tr>\n",
       "    <tr>\n",
       "      <th>4</th>\n",
       "      <td>Significant_Damage_And_Fatalities</td>\n",
       "      <td>26.484018</td>\n",
       "      <td>13</td>\n",
       "      <td>25</td>\n",
       "      <td>47.948952</td>\n",
       "      <td>0.541140</td>\n",
       "      <td>77.16</td>\n",
       "      <td>3</td>\n",
       "      <td>35509.228515</td>\n",
       "      <td>2</td>\n",
       "      <td>0.176883</td>\n",
       "      <td>9054</td>\n",
       "    </tr>\n",
       "  </tbody>\n",
       "</table>\n",
       "</div>"
      ],
      "text/plain": [
       "                                  Severity  Safety_Score  \\\n",
       "0                Minor_Damage_And_Injuries     49.223744   \n",
       "1                Minor_Damage_And_Injuries     62.465753   \n",
       "2        Significant_Damage_And_Fatalities     63.059361   \n",
       "3  Significant_Damage_And_Serious_Injuries     48.082192   \n",
       "4        Significant_Damage_And_Fatalities     26.484018   \n",
       "\n",
       "   Days_Since_Inspection  Total_Safety_Complaints  Control_Metric  \\\n",
       "0                     14                       22       71.285324   \n",
       "1                     10                       27       72.288058   \n",
       "2                     13                       16       66.362808   \n",
       "3                     11                        9       74.703737   \n",
       "4                     13                       25       47.948952   \n",
       "\n",
       "   Turbulence_In_gforces  Cabin_Temperature  Accident_Type_Code  \\\n",
       "0               0.272118              78.04                   2   \n",
       "1               0.423939              84.54                   2   \n",
       "2               0.322604              78.86                   7   \n",
       "3               0.337029              81.79                   3   \n",
       "4               0.541140              77.16                   3   \n",
       "\n",
       "   Max_Elevation  Violations  Adverse_Weather_Metric  Accident_ID  \n",
       "0   31335.476824           3                0.424352         7570  \n",
       "1   26024.711057           2                0.352350        12128  \n",
       "2   39269.053927           3                0.003364         2181  \n",
       "3   42771.499200           1                0.211728         5946  \n",
       "4   35509.228515           2                0.176883         9054  "
      ]
     },
     "execution_count": 146,
     "metadata": {},
     "output_type": "execute_result"
    }
   ],
   "source": [
    "df=pd.read_csv('F:\\\\train.csv')\n",
    "test=pd.read_csv('F:\\\\test.csv')\n",
    "df.head()"
   ]
  },
  {
   "cell_type": "code",
   "execution_count": 147,
   "metadata": {},
   "outputs": [
    {
     "data": {
      "text/plain": [
       "(10000, 12)"
      ]
     },
     "execution_count": 147,
     "metadata": {},
     "output_type": "execute_result"
    }
   ],
   "source": [
    "df.shape"
   ]
  },
  {
   "cell_type": "code",
   "execution_count": 148,
   "metadata": {},
   "outputs": [
    {
     "data": {
      "text/plain": [
       "Highly_Fatal_And_Damaging                  3049\n",
       "Significant_Damage_And_Serious_Injuries    2729\n",
       "Minor_Damage_And_Injuries                  2527\n",
       "Significant_Damage_And_Fatalities          1695\n",
       "Name: Severity, dtype: int64"
      ]
     },
     "execution_count": 148,
     "metadata": {},
     "output_type": "execute_result"
    }
   ],
   "source": [
    "df['Severity'].value_counts()"
   ]
  },
  {
   "cell_type": "code",
   "execution_count": 149,
   "metadata": {},
   "outputs": [
    {
     "data": {
      "text/html": [
       "<div>\n",
       "<style scoped>\n",
       "    .dataframe tbody tr th:only-of-type {\n",
       "        vertical-align: middle;\n",
       "    }\n",
       "\n",
       "    .dataframe tbody tr th {\n",
       "        vertical-align: top;\n",
       "    }\n",
       "\n",
       "    .dataframe thead th {\n",
       "        text-align: right;\n",
       "    }\n",
       "</style>\n",
       "<table border=\"1\" class=\"dataframe\">\n",
       "  <thead>\n",
       "    <tr style=\"text-align: right;\">\n",
       "      <th></th>\n",
       "      <th>Safety_Score</th>\n",
       "      <th>Days_Since_Inspection</th>\n",
       "      <th>Total_Safety_Complaints</th>\n",
       "      <th>Control_Metric</th>\n",
       "      <th>Turbulence_In_gforces</th>\n",
       "      <th>Cabin_Temperature</th>\n",
       "      <th>Accident_Type_Code</th>\n",
       "      <th>Max_Elevation</th>\n",
       "      <th>Violations</th>\n",
       "      <th>Adverse_Weather_Metric</th>\n",
       "      <th>Accident_ID</th>\n",
       "    </tr>\n",
       "  </thead>\n",
       "  <tbody>\n",
       "    <tr>\n",
       "      <th>count</th>\n",
       "      <td>2729.000000</td>\n",
       "      <td>2729.000000</td>\n",
       "      <td>2729.000000</td>\n",
       "      <td>2729.000000</td>\n",
       "      <td>2729.000000</td>\n",
       "      <td>2729.000000</td>\n",
       "      <td>2729.000000</td>\n",
       "      <td>2729.000000</td>\n",
       "      <td>2729.000000</td>\n",
       "      <td>2729.000000</td>\n",
       "      <td>2729.000000</td>\n",
       "    </tr>\n",
       "    <tr>\n",
       "      <th>mean</th>\n",
       "      <td>42.667443</td>\n",
       "      <td>12.808721</td>\n",
       "      <td>6.622206</td>\n",
       "      <td>67.480750</td>\n",
       "      <td>0.373382</td>\n",
       "      <td>79.924478</td>\n",
       "      <td>4.282155</td>\n",
       "      <td>32298.893626</td>\n",
       "      <td>1.993404</td>\n",
       "      <td>0.157048</td>\n",
       "      <td>6248.868816</td>\n",
       "    </tr>\n",
       "    <tr>\n",
       "      <th>std</th>\n",
       "      <td>13.639995</td>\n",
       "      <td>3.489099</td>\n",
       "      <td>7.140851</td>\n",
       "      <td>10.806550</td>\n",
       "      <td>0.114329</td>\n",
       "      <td>2.769980</td>\n",
       "      <td>1.792042</td>\n",
       "      <td>9030.803062</td>\n",
       "      <td>1.037402</td>\n",
       "      <td>0.278302</td>\n",
       "      <td>3574.993728</td>\n",
       "    </tr>\n",
       "    <tr>\n",
       "      <th>min</th>\n",
       "      <td>3.287671</td>\n",
       "      <td>1.000000</td>\n",
       "      <td>0.000000</td>\n",
       "      <td>0.000000</td>\n",
       "      <td>0.134000</td>\n",
       "      <td>74.790000</td>\n",
       "      <td>1.000000</td>\n",
       "      <td>831.695553</td>\n",
       "      <td>0.000000</td>\n",
       "      <td>0.000436</td>\n",
       "      <td>6.000000</td>\n",
       "    </tr>\n",
       "    <tr>\n",
       "      <th>25%</th>\n",
       "      <td>33.470320</td>\n",
       "      <td>10.000000</td>\n",
       "      <td>2.000000</td>\n",
       "      <td>61.212397</td>\n",
       "      <td>0.294476</td>\n",
       "      <td>77.980000</td>\n",
       "      <td>3.000000</td>\n",
       "      <td>26335.223800</td>\n",
       "      <td>1.000000</td>\n",
       "      <td>0.007942</td>\n",
       "      <td>3181.000000</td>\n",
       "    </tr>\n",
       "    <tr>\n",
       "      <th>50%</th>\n",
       "      <td>41.369863</td>\n",
       "      <td>13.000000</td>\n",
       "      <td>4.000000</td>\n",
       "      <td>67.547858</td>\n",
       "      <td>0.357224</td>\n",
       "      <td>79.430000</td>\n",
       "      <td>4.000000</td>\n",
       "      <td>32266.136231</td>\n",
       "      <td>2.000000</td>\n",
       "      <td>0.068885</td>\n",
       "      <td>6280.000000</td>\n",
       "    </tr>\n",
       "    <tr>\n",
       "      <th>75%</th>\n",
       "      <td>50.776256</td>\n",
       "      <td>15.000000</td>\n",
       "      <td>9.000000</td>\n",
       "      <td>74.521422</td>\n",
       "      <td>0.438003</td>\n",
       "      <td>81.480000</td>\n",
       "      <td>6.000000</td>\n",
       "      <td>38550.132225</td>\n",
       "      <td>3.000000</td>\n",
       "      <td>0.174018</td>\n",
       "      <td>9254.000000</td>\n",
       "    </tr>\n",
       "    <tr>\n",
       "      <th>max</th>\n",
       "      <td>98.401826</td>\n",
       "      <td>23.000000</td>\n",
       "      <td>54.000000</td>\n",
       "      <td>100.000000</td>\n",
       "      <td>0.881926</td>\n",
       "      <td>97.510000</td>\n",
       "      <td>7.000000</td>\n",
       "      <td>64297.651218</td>\n",
       "      <td>5.000000</td>\n",
       "      <td>1.818558</td>\n",
       "      <td>12499.000000</td>\n",
       "    </tr>\n",
       "  </tbody>\n",
       "</table>\n",
       "</div>"
      ],
      "text/plain": [
       "       Safety_Score  Days_Since_Inspection  Total_Safety_Complaints  \\\n",
       "count   2729.000000            2729.000000              2729.000000   \n",
       "mean      42.667443              12.808721                 6.622206   \n",
       "std       13.639995               3.489099                 7.140851   \n",
       "min        3.287671               1.000000                 0.000000   \n",
       "25%       33.470320              10.000000                 2.000000   \n",
       "50%       41.369863              13.000000                 4.000000   \n",
       "75%       50.776256              15.000000                 9.000000   \n",
       "max       98.401826              23.000000                54.000000   \n",
       "\n",
       "       Control_Metric  Turbulence_In_gforces  Cabin_Temperature  \\\n",
       "count     2729.000000            2729.000000        2729.000000   \n",
       "mean        67.480750               0.373382          79.924478   \n",
       "std         10.806550               0.114329           2.769980   \n",
       "min          0.000000               0.134000          74.790000   \n",
       "25%         61.212397               0.294476          77.980000   \n",
       "50%         67.547858               0.357224          79.430000   \n",
       "75%         74.521422               0.438003          81.480000   \n",
       "max        100.000000               0.881926          97.510000   \n",
       "\n",
       "       Accident_Type_Code  Max_Elevation   Violations  Adverse_Weather_Metric  \\\n",
       "count         2729.000000    2729.000000  2729.000000             2729.000000   \n",
       "mean             4.282155   32298.893626     1.993404                0.157048   \n",
       "std              1.792042    9030.803062     1.037402                0.278302   \n",
       "min              1.000000     831.695553     0.000000                0.000436   \n",
       "25%              3.000000   26335.223800     1.000000                0.007942   \n",
       "50%              4.000000   32266.136231     2.000000                0.068885   \n",
       "75%              6.000000   38550.132225     3.000000                0.174018   \n",
       "max              7.000000   64297.651218     5.000000                1.818558   \n",
       "\n",
       "        Accident_ID  \n",
       "count   2729.000000  \n",
       "mean    6248.868816  \n",
       "std     3574.993728  \n",
       "min        6.000000  \n",
       "25%     3181.000000  \n",
       "50%     6280.000000  \n",
       "75%     9254.000000  \n",
       "max    12499.000000  "
      ]
     },
     "execution_count": 149,
     "metadata": {},
     "output_type": "execute_result"
    }
   ],
   "source": [
    "df[df['Severity']=='Significant_Damage_And_Serious_Injuries'].describe()"
   ]
  },
  {
   "cell_type": "code",
   "execution_count": 150,
   "metadata": {},
   "outputs": [
    {
     "data": {
      "text/html": [
       "<div>\n",
       "<style scoped>\n",
       "    .dataframe tbody tr th:only-of-type {\n",
       "        vertical-align: middle;\n",
       "    }\n",
       "\n",
       "    .dataframe tbody tr th {\n",
       "        vertical-align: top;\n",
       "    }\n",
       "\n",
       "    .dataframe thead th {\n",
       "        text-align: right;\n",
       "    }\n",
       "</style>\n",
       "<table border=\"1\" class=\"dataframe\">\n",
       "  <thead>\n",
       "    <tr style=\"text-align: right;\">\n",
       "      <th></th>\n",
       "      <th>Safety_Score</th>\n",
       "      <th>Days_Since_Inspection</th>\n",
       "      <th>Total_Safety_Complaints</th>\n",
       "      <th>Control_Metric</th>\n",
       "      <th>Turbulence_In_gforces</th>\n",
       "      <th>Cabin_Temperature</th>\n",
       "      <th>Accident_Type_Code</th>\n",
       "      <th>Max_Elevation</th>\n",
       "      <th>Violations</th>\n",
       "      <th>Adverse_Weather_Metric</th>\n",
       "      <th>Accident_ID</th>\n",
       "    </tr>\n",
       "  </thead>\n",
       "  <tbody>\n",
       "    <tr>\n",
       "      <th>count</th>\n",
       "      <td>2527.000000</td>\n",
       "      <td>2527.000000</td>\n",
       "      <td>2527.000000</td>\n",
       "      <td>2527.000000</td>\n",
       "      <td>2527.000000</td>\n",
       "      <td>2527.000000</td>\n",
       "      <td>2527.000000</td>\n",
       "      <td>2527.000000</td>\n",
       "      <td>2527.000000</td>\n",
       "      <td>2527.000000</td>\n",
       "      <td>2527.000000</td>\n",
       "    </tr>\n",
       "    <tr>\n",
       "      <th>mean</th>\n",
       "      <td>47.800305</td>\n",
       "      <td>13.170162</td>\n",
       "      <td>6.827859</td>\n",
       "      <td>64.350232</td>\n",
       "      <td>0.386255</td>\n",
       "      <td>79.903961</td>\n",
       "      <td>3.269490</td>\n",
       "      <td>32225.568306</td>\n",
       "      <td>1.981797</td>\n",
       "      <td>0.311014</td>\n",
       "      <td>6292.467353</td>\n",
       "    </tr>\n",
       "    <tr>\n",
       "      <th>std</th>\n",
       "      <td>12.647098</td>\n",
       "      <td>3.602411</td>\n",
       "      <td>7.363165</td>\n",
       "      <td>12.204630</td>\n",
       "      <td>0.120434</td>\n",
       "      <td>2.733035</td>\n",
       "      <td>1.738152</td>\n",
       "      <td>9595.525489</td>\n",
       "      <td>1.029487</td>\n",
       "      <td>0.347763</td>\n",
       "      <td>3625.075443</td>\n",
       "    </tr>\n",
       "    <tr>\n",
       "      <th>min</th>\n",
       "      <td>3.287671</td>\n",
       "      <td>2.000000</td>\n",
       "      <td>0.000000</td>\n",
       "      <td>20.966272</td>\n",
       "      <td>0.134000</td>\n",
       "      <td>74.740000</td>\n",
       "      <td>1.000000</td>\n",
       "      <td>3470.002175</td>\n",
       "      <td>0.000000</td>\n",
       "      <td>0.000368</td>\n",
       "      <td>2.000000</td>\n",
       "    </tr>\n",
       "    <tr>\n",
       "      <th>25%</th>\n",
       "      <td>39.726027</td>\n",
       "      <td>11.000000</td>\n",
       "      <td>1.000000</td>\n",
       "      <td>55.925251</td>\n",
       "      <td>0.300787</td>\n",
       "      <td>77.930000</td>\n",
       "      <td>2.000000</td>\n",
       "      <td>25788.134308</td>\n",
       "      <td>1.000000</td>\n",
       "      <td>0.027697</td>\n",
       "      <td>3127.500000</td>\n",
       "    </tr>\n",
       "    <tr>\n",
       "      <th>50%</th>\n",
       "      <td>47.031963</td>\n",
       "      <td>13.000000</td>\n",
       "      <td>5.000000</td>\n",
       "      <td>65.132179</td>\n",
       "      <td>0.372009</td>\n",
       "      <td>79.540000</td>\n",
       "      <td>3.000000</td>\n",
       "      <td>32158.504539</td>\n",
       "      <td>2.000000</td>\n",
       "      <td>0.201784</td>\n",
       "      <td>6315.000000</td>\n",
       "    </tr>\n",
       "    <tr>\n",
       "      <th>75%</th>\n",
       "      <td>56.484018</td>\n",
       "      <td>16.000000</td>\n",
       "      <td>10.000000</td>\n",
       "      <td>72.470374</td>\n",
       "      <td>0.451346</td>\n",
       "      <td>81.530000</td>\n",
       "      <td>5.000000</td>\n",
       "      <td>38715.540539</td>\n",
       "      <td>3.000000</td>\n",
       "      <td>0.474504</td>\n",
       "      <td>9498.000000</td>\n",
       "    </tr>\n",
       "    <tr>\n",
       "      <th>max</th>\n",
       "      <td>83.881279</td>\n",
       "      <td>23.000000</td>\n",
       "      <td>54.000000</td>\n",
       "      <td>97.994531</td>\n",
       "      <td>0.882648</td>\n",
       "      <td>97.510000</td>\n",
       "      <td>7.000000</td>\n",
       "      <td>64297.651218</td>\n",
       "      <td>5.000000</td>\n",
       "      <td>2.116977</td>\n",
       "      <td>12498.000000</td>\n",
       "    </tr>\n",
       "  </tbody>\n",
       "</table>\n",
       "</div>"
      ],
      "text/plain": [
       "       Safety_Score  Days_Since_Inspection  Total_Safety_Complaints  \\\n",
       "count   2527.000000            2527.000000              2527.000000   \n",
       "mean      47.800305              13.170162                 6.827859   \n",
       "std       12.647098               3.602411                 7.363165   \n",
       "min        3.287671               2.000000                 0.000000   \n",
       "25%       39.726027              11.000000                 1.000000   \n",
       "50%       47.031963              13.000000                 5.000000   \n",
       "75%       56.484018              16.000000                10.000000   \n",
       "max       83.881279              23.000000                54.000000   \n",
       "\n",
       "       Control_Metric  Turbulence_In_gforces  Cabin_Temperature  \\\n",
       "count     2527.000000            2527.000000        2527.000000   \n",
       "mean        64.350232               0.386255          79.903961   \n",
       "std         12.204630               0.120434           2.733035   \n",
       "min         20.966272               0.134000          74.740000   \n",
       "25%         55.925251               0.300787          77.930000   \n",
       "50%         65.132179               0.372009          79.540000   \n",
       "75%         72.470374               0.451346          81.530000   \n",
       "max         97.994531               0.882648          97.510000   \n",
       "\n",
       "       Accident_Type_Code  Max_Elevation   Violations  Adverse_Weather_Metric  \\\n",
       "count         2527.000000    2527.000000  2527.000000             2527.000000   \n",
       "mean             3.269490   32225.568306     1.981797                0.311014   \n",
       "std              1.738152    9595.525489     1.029487                0.347763   \n",
       "min              1.000000    3470.002175     0.000000                0.000368   \n",
       "25%              2.000000   25788.134308     1.000000                0.027697   \n",
       "50%              3.000000   32158.504539     2.000000                0.201784   \n",
       "75%              5.000000   38715.540539     3.000000                0.474504   \n",
       "max              7.000000   64297.651218     5.000000                2.116977   \n",
       "\n",
       "        Accident_ID  \n",
       "count   2527.000000  \n",
       "mean    6292.467353  \n",
       "std     3625.075443  \n",
       "min        2.000000  \n",
       "25%     3127.500000  \n",
       "50%     6315.000000  \n",
       "75%     9498.000000  \n",
       "max    12498.000000  "
      ]
     },
     "execution_count": 150,
     "metadata": {},
     "output_type": "execute_result"
    }
   ],
   "source": [
    "df[df['Severity']=='Minor_Damage_And_Injuries'].describe()"
   ]
  },
  {
   "cell_type": "code",
   "execution_count": 151,
   "metadata": {},
   "outputs": [],
   "source": [
    "import seaborn as sns\n",
    "sns.set()"
   ]
  },
  {
   "cell_type": "code",
   "execution_count": 152,
   "metadata": {},
   "outputs": [
    {
     "data": {
      "text/plain": [
       "<matplotlib.axes._subplots.AxesSubplot at 0xd3b3eb8>"
      ]
     },
     "execution_count": 152,
     "metadata": {},
     "output_type": "execute_result"
    },
    {
     "data": {
      "image/png": "[encoded data removed]",
      "text/plain": [
       "<matplotlib.figure.Figure at 0xd698dd8>"
      ]
     },
     "metadata": {},
     "output_type": "display_data"
    }
   ],
   "source": [
    "sns.boxplot(y=df['Control_Metric'],x=df['Severity'])"
   ]
  },
  {
   "cell_type": "code",
   "execution_count": 153,
   "metadata": {},
   "outputs": [],
   "source": [
    "df=df[df['Control_Metric']>40]\n",
    "df=df[df['Safety_Score']<80]"
   ]
  },
  {
   "cell_type": "code",
   "execution_count": 154,
   "metadata": {},
   "outputs": [
    {
     "data": {
      "text/plain": [
       "<matplotlib.axes._subplots.AxesSubplot at 0x12c9c630>"
      ]
     },
     "execution_count": 154,
     "metadata": {},
     "output_type": "execute_result"
    },
    {
     "data": {
      "image/png": "[encoded data removed]",
      "text/plain": [
       "<matplotlib.figure.Figure at 0xd3d1208>"
      ]
     },
     "metadata": {},
     "output_type": "display_data"
    }
   ],
   "source": [
    "sns.boxplot(y=df['Control_Metric'],x=df['Severity'])"
   ]
  },
  {
   "cell_type": "code",
   "execution_count": 155,
   "metadata": {},
   "outputs": [
    {
     "data": {
      "text/plain": [
       "(10000, 12)"
      ]
     },
     "execution_count": 155,
     "metadata": {},
     "output_type": "execute_result"
    }
   ],
   "source": [
    "df.shape"
   ]
  },
  {
   "cell_type": "code",
   "execution_count": 156,
   "metadata": {},
   "outputs": [
    {
     "data": {
      "text/plain": [
       "<matplotlib.axes._subplots.AxesSubplot at 0x12e26358>"
      ]
     },
     "execution_count": 156,
     "metadata": {},
     "output_type": "execute_result"
    },
    {
     "data": {
      "image/png": "[encoded data removed]",
      "text/plain": [
       "<matplotlib.figure.Figure at 0xde8bc88>"
      ]
     },
     "metadata": {},
     "output_type": "display_data"
    }
   ],
   "source": [
    "sns.boxplot(y=df['Max_Elevation'],x=df['Severity'])"
   ]
  },
  {
   "cell_type": "code",
   "execution_count": 157,
   "metadata": {},
   "outputs": [
    {
     "data": {
      "text/plain": [
       "<matplotlib.collections.PathCollection at 0x13b10908>"
      ]
     },
     "execution_count": 157,
     "metadata": {},
     "output_type": "execute_result"
    },
    {
     "data": {
      "image/png": "[encoded data removed]",
      "text/plain": [
       "<matplotlib.figure.Figure at 0xdd80c50>"
      ]
     },
     "metadata": {},
     "output_type": "display_data"
    }
   ],
   "source": [
    "plt.scatter(df['Max_Elevation'],df['Days_Since_Inspection'],marker='.')"
   ]
  },
  {
   "cell_type": "code",
   "execution_count": 158,
   "metadata": {},
   "outputs": [],
   "source": [
    "df=df.drop('Accident_ID',1)\n",
    "id=test['Accident_ID']\n",
    "test=test.drop('Accident_ID',1)"
   ]
  },
  {
   "cell_type": "code",
   "execution_count": 159,
   "metadata": {},
   "outputs": [],
   "source": [
    "from sklearn.preprocessing import LabelEncoder"
   ]
  },
  {
   "cell_type": "code",
   "execution_count": 160,
   "metadata": {},
   "outputs": [],
   "source": [
    "lb=LabelEncoder()\n",
    "lb.fit(df['Severity'])\n",
    "df['Severity']=lb.transform(df['Severity'])\n",
    "df['Severity']=df['Severity'].astype('category')"
   ]
  },
  {
   "cell_type": "code",
   "execution_count": 161,
   "metadata": {},
   "outputs": [
    {
     "data": {
      "text/html": [
       "<div>\n",
       "<style scoped>\n",
       "    .dataframe tbody tr th:only-of-type {\n",
       "        vertical-align: middle;\n",
       "    }\n",
       "\n",
       "    .dataframe tbody tr th {\n",
       "        vertical-align: top;\n",
       "    }\n",
       "\n",
       "    .dataframe thead th {\n",
       "        text-align: right;\n",
       "    }\n",
       "</style>\n",
       "<table border=\"1\" class=\"dataframe\">\n",
       "  <thead>\n",
       "    <tr style=\"text-align: right;\">\n",
       "      <th></th>\n",
       "      <th>Severity</th>\n",
       "      <th>Safety_Score</th>\n",
       "      <th>Days_Since_Inspection</th>\n",
       "      <th>Total_Safety_Complaints</th>\n",
       "      <th>Control_Metric</th>\n",
       "      <th>Turbulence_In_gforces</th>\n",
       "      <th>Cabin_Temperature</th>\n",
       "      <th>Accident_Type_Code</th>\n",
       "      <th>Max_Elevation</th>\n",
       "      <th>Violations</th>\n",
       "      <th>Adverse_Weather_Metric</th>\n",
       "    </tr>\n",
       "  </thead>\n",
       "  <tbody>\n",
       "    <tr>\n",
       "      <th>0</th>\n",
       "      <td>1</td>\n",
       "      <td>49.223744</td>\n",
       "      <td>14</td>\n",
       "      <td>22</td>\n",
       "      <td>71.285324</td>\n",
       "      <td>0.272118</td>\n",
       "      <td>78.04</td>\n",
       "      <td>2</td>\n",
       "      <td>31335.476824</td>\n",
       "      <td>3</td>\n",
       "      <td>0.424352</td>\n",
       "    </tr>\n",
       "    <tr>\n",
       "      <th>1</th>\n",
       "      <td>1</td>\n",
       "      <td>62.465753</td>\n",
       "      <td>10</td>\n",
       "      <td>27</td>\n",
       "      <td>72.288058</td>\n",
       "      <td>0.423939</td>\n",
       "      <td>84.54</td>\n",
       "      <td>2</td>\n",
       "      <td>26024.711057</td>\n",
       "      <td>2</td>\n",
       "      <td>0.352350</td>\n",
       "    </tr>\n",
       "    <tr>\n",
       "      <th>2</th>\n",
       "      <td>2</td>\n",
       "      <td>63.059361</td>\n",
       "      <td>13</td>\n",
       "      <td>16</td>\n",
       "      <td>66.362808</td>\n",
       "      <td>0.322604</td>\n",
       "      <td>78.86</td>\n",
       "      <td>7</td>\n",
       "      <td>39269.053927</td>\n",
       "      <td>3</td>\n",
       "      <td>0.003364</td>\n",
       "    </tr>\n",
       "    <tr>\n",
       "      <th>3</th>\n",
       "      <td>3</td>\n",
       "      <td>48.082192</td>\n",
       "      <td>11</td>\n",
       "      <td>9</td>\n",
       "      <td>74.703737</td>\n",
       "      <td>0.337029</td>\n",
       "      <td>81.79</td>\n",
       "      <td>3</td>\n",
       "      <td>42771.499200</td>\n",
       "      <td>1</td>\n",
       "      <td>0.211728</td>\n",
       "    </tr>\n",
       "    <tr>\n",
       "      <th>4</th>\n",
       "      <td>2</td>\n",
       "      <td>26.484018</td>\n",
       "      <td>13</td>\n",
       "      <td>25</td>\n",
       "      <td>47.948952</td>\n",
       "      <td>0.541140</td>\n",
       "      <td>77.16</td>\n",
       "      <td>3</td>\n",
       "      <td>35509.228515</td>\n",
       "      <td>2</td>\n",
       "      <td>0.176883</td>\n",
       "    </tr>\n",
       "  </tbody>\n",
       "</table>\n",
       "</div>"
      ],
      "text/plain": [
       "  Severity  Safety_Score  Days_Since_Inspection  Total_Safety_Complaints  \\\n",
       "0        1     49.223744                     14                       22   \n",
       "1        1     62.465753                     10                       27   \n",
       "2        2     63.059361                     13                       16   \n",
       "3        3     48.082192                     11                        9   \n",
       "4        2     26.484018                     13                       25   \n",
       "\n",
       "   Control_Metric  Turbulence_In_gforces  Cabin_Temperature  \\\n",
       "0       71.285324               0.272118              78.04   \n",
       "1       72.288058               0.423939              84.54   \n",
       "2       66.362808               0.322604              78.86   \n",
       "3       74.703737               0.337029              81.79   \n",
       "4       47.948952               0.541140              77.16   \n",
       "\n",
       "   Accident_Type_Code  Max_Elevation  Violations  Adverse_Weather_Metric  \n",
       "0                   2   31335.476824           3                0.424352  \n",
       "1                   2   26024.711057           2                0.352350  \n",
       "2                   7   39269.053927           3                0.003364  \n",
       "3                   3   42771.499200           1                0.211728  \n",
       "4                   3   35509.228515           2                0.176883  "
      ]
     },
     "execution_count": 161,
     "metadata": {},
     "output_type": "execute_result"
    }
   ],
   "source": [
    "df.head()"
   ]
  },
  {
   "cell_type": "code",
   "execution_count": 162,
   "metadata": {},
   "outputs": [
    {
     "data": {
      "text/plain": [
       "Severity                   1.397712e+00\n",
       "Safety_Score               2.604374e+02\n",
       "Days_Since_Inspection      1.253021e+01\n",
       "Total_Safety_Complaints    4.860853e+01\n",
       "Control_Metric             1.412041e+02\n",
       "Turbulence_In_gforces      1.471389e-02\n",
       "Cabin_Temperature          7.616161e+00\n",
       "Accident_Type_Code         3.619800e+00\n",
       "Max_Elevation              8.896253e+07\n",
       "Violations                 1.081559e+00\n",
       "Adverse_Weather_Metric     1.452586e-01\n",
       "dtype: float64"
      ]
     },
     "execution_count": 162,
     "metadata": {},
     "output_type": "execute_result"
    }
   ],
   "source": [
    "df.var()"
   ]
  },
  {
   "cell_type": "code",
   "execution_count": 163,
   "metadata": {},
   "outputs": [],
   "source": [
    "from sklearn.model_selection import train_test_split\n",
    "from sklearn.linear_model import LogisticRegression\n",
    "from sklearn.preprocessing import StandardScaler\n",
    "from sklearn.metrics import f1_score"
   ]
  },
  {
   "cell_type": "code",
   "execution_count": 164,
   "metadata": {},
   "outputs": [],
   "source": [
    "x=df.drop('Severity',1)\n",
    "y=df['Severity']"
   ]
  },
  {
   "cell_type": "code",
   "execution_count": 165,
   "metadata": {},
   "outputs": [],
   "source": [
    "sd=StandardScaler()\n",
    "sd.fit(x)\n",
    "x=sd.transform(x)\n",
    "test=sd.transform(test)"
   ]
  },
  {
   "cell_type": "code",
   "execution_count": 166,
   "metadata": {},
   "outputs": [],
   "source": [
    "x_train,x_test,y_train,y_test = train_test_split(x,y,random_state=42,stratify=y)"
   ]
  },
  {
   "cell_type": "code",
   "execution_count": 167,
   "metadata": {},
   "outputs": [
    {
     "data": {
      "text/plain": [
       "0.5648"
      ]
     },
     "execution_count": 167,
     "metadata": {},
     "output_type": "execute_result"
    }
   ],
   "source": [
    "log=LogisticRegression()\n",
    "log.fit(x_train,y_train)\n",
    "log.score(x_test,y_test)"
   ]
  },
  {
   "cell_type": "code",
   "execution_count": 168,
   "metadata": {},
   "outputs": [
    {
     "data": {
      "text/plain": [
       "0.6378398236254175"
      ]
     },
     "execution_count": 168,
     "metadata": {},
     "output_type": "execute_result"
    }
   ],
   "source": [
    "from sklearn.tree import DecisionTreeRegressor\n",
    "dt=DecisionTreeRegressor()\n",
    "dt.fit(x_train,y_train)\n",
    "dt.score(x_test,y_test)"
   ]
  },
  {
   "cell_type": "code",
   "execution_count": 169,
   "metadata": {},
   "outputs": [
    {
     "data": {
      "text/plain": [
       "0.9424"
      ]
     },
     "execution_count": 169,
     "metadata": {},
     "output_type": "execute_result"
    }
   ],
   "source": [
    "from sklearn.ensemble import BaggingClassifier\n",
    "bag=BaggingClassifier(n_estimators=50)\n",
    "bag.fit(x_train,y_train)\n",
    "bag.score(x_test,y_test)"
   ]
  },
  {
   "cell_type": "code",
   "execution_count": 170,
   "metadata": {},
   "outputs": [
    {
     "data": {
      "text/plain": [
       "0.9200874443235394"
      ]
     },
     "execution_count": 170,
     "metadata": {},
     "output_type": "execute_result"
    }
   ],
   "source": [
    "from sklearn.ensemble import RandomForestClassifier\n",
    "rf=RandomForestClassifier(n_estimators=50)\n",
    "rf.fit(x_train,y_train)\n",
    "y_rf=rf.predict(x_test)\n",
    "f1_score(y_test,y_rf,average='weighted')"
   ]
  },
  {
   "cell_type": "code",
   "execution_count": 171,
   "metadata": {},
   "outputs": [
    {
     "name": "stderr",
     "output_type": "stream",
     "text": [
      "C:\\Users\\user\\Anaconda2\\lib\\site-packages\\sklearn\\preprocessing\\label.py:151: DeprecationWarning: The truth value of an empty array is ambiguous. Returning False, but in future this will result in an error. Use `array.size > 0` to check that an array is not empty.\n",
      "  if diff:\n"
     ]
    },
    {
     "data": {
      "text/plain": [
       "1.0"
      ]
     },
     "execution_count": 171,
     "metadata": {},
     "output_type": "execute_result"
    }
   ],
   "source": [
    "from xgboost import XGBClassifier\n",
    "clf= XGBClassifier(n_estimators=200,max_depth=9,subsample=0.8,colsample_bytree=0.8)\n",
    "clf.fit(x,y)\n",
    "y_clf=clf.predict(x_test)\n",
    "f1_score(y_test,y_clf,average='weighted')"
   ]
  },
  {
   "cell_type": "code",
   "execution_count": 172,
   "metadata": {},
   "outputs": [
    {
     "name": "stdout",
     "output_type": "stream",
     "text": [
      "0:\tlearn: 0.7688000\ttotal: 498ms\tremaining: 49.3s\n",
      "1:\tlearn: 0.8229333\ttotal: 1.04s\tremaining: 50.8s\n",
      "2:\tlearn: 0.8993333\ttotal: 1.57s\tremaining: 50.8s\n",
      "3:\tlearn: 0.9093333\ttotal: 2.08s\tremaining: 49.9s\n",
      "4:\tlearn: 0.9196000\ttotal: 2.6s\tremaining: 49.4s\n",
      "5:\tlearn: 0.9312000\ttotal: 3.1s\tremaining: 48.7s\n",
      "6:\tlearn: 0.9345333\ttotal: 3.65s\tremaining: 48.5s\n",
      "7:\tlearn: 0.9368000\ttotal: 4.17s\tremaining: 48s\n",
      "8:\tlearn: 0.9426667\ttotal: 4.69s\tremaining: 47.4s\n",
      "9:\tlearn: 0.9458667\ttotal: 5.22s\tremaining: 46.9s\n",
      "10:\tlearn: 0.9462667\ttotal: 5.79s\tremaining: 46.9s\n",
      "11:\tlearn: 0.9488000\ttotal: 6.36s\tremaining: 46.7s\n",
      "12:\tlearn: 0.9492000\ttotal: 6.97s\tremaining: 46.7s\n",
      "13:\tlearn: 0.9510667\ttotal: 7.54s\tremaining: 46.3s\n",
      "14:\tlearn: 0.9509333\ttotal: 8.08s\tremaining: 45.8s\n",
      "15:\tlearn: 0.9537333\ttotal: 8.63s\tremaining: 45.3s\n",
      "16:\tlearn: 0.9556000\ttotal: 9.16s\tremaining: 44.7s\n",
      "17:\tlearn: 0.9566667\ttotal: 9.72s\tremaining: 44.3s\n",
      "18:\tlearn: 0.9568000\ttotal: 10.3s\tremaining: 43.7s\n",
      "19:\tlearn: 0.9576000\ttotal: 10.8s\tremaining: 43.2s\n",
      "20:\tlearn: 0.9593333\ttotal: 11.3s\tremaining: 42.6s\n",
      "21:\tlearn: 0.9590667\ttotal: 11.9s\tremaining: 42.1s\n",
      "22:\tlearn: 0.9596000\ttotal: 12.6s\tremaining: 42.3s\n",
      "23:\tlearn: 0.9608000\ttotal: 13.3s\tremaining: 42.2s\n",
      "24:\tlearn: 0.9610667\ttotal: 14.1s\tremaining: 42.2s\n",
      "25:\tlearn: 0.9616000\ttotal: 14.7s\tremaining: 41.9s\n",
      "26:\tlearn: 0.9628000\ttotal: 15.3s\tremaining: 41.4s\n",
      "27:\tlearn: 0.9633333\ttotal: 15.9s\tremaining: 40.8s\n",
      "28:\tlearn: 0.9646667\ttotal: 16.5s\tremaining: 40.4s\n",
      "29:\tlearn: 0.9652000\ttotal: 17.1s\tremaining: 39.8s\n",
      "30:\tlearn: 0.9654667\ttotal: 17.6s\tremaining: 39.2s\n",
      "31:\tlearn: 0.9654667\ttotal: 18.1s\tremaining: 38.5s\n",
      "32:\tlearn: 0.9650667\ttotal: 18.7s\tremaining: 37.9s\n",
      "33:\tlearn: 0.9653333\ttotal: 19.4s\tremaining: 37.6s\n",
      "34:\tlearn: 0.9661333\ttotal: 20.2s\tremaining: 37.4s\n",
      "35:\tlearn: 0.9668000\ttotal: 20.8s\tremaining: 37s\n",
      "36:\tlearn: 0.9669333\ttotal: 21.5s\tremaining: 36.5s\n",
      "37:\tlearn: 0.9674667\ttotal: 22.2s\tremaining: 36.2s\n",
      "38:\tlearn: 0.9696000\ttotal: 22.8s\tremaining: 35.7s\n",
      "39:\tlearn: 0.9694667\ttotal: 23.5s\tremaining: 35.3s\n",
      "40:\tlearn: 0.9696000\ttotal: 24.1s\tremaining: 34.6s\n",
      "41:\tlearn: 0.9701333\ttotal: 24.6s\tremaining: 34s\n",
      "42:\tlearn: 0.9716000\ttotal: 25.1s\tremaining: 33.3s\n",
      "43:\tlearn: 0.9720000\ttotal: 25.7s\tremaining: 32.7s\n",
      "44:\tlearn: 0.9729333\ttotal: 26.2s\tremaining: 32.1s\n",
      "45:\tlearn: 0.9737333\ttotal: 26.9s\tremaining: 31.6s\n",
      "46:\tlearn: 0.9746667\ttotal: 27.5s\tremaining: 31s\n",
      "47:\tlearn: 0.9753333\ttotal: 28s\tremaining: 30.3s\n",
      "48:\tlearn: 0.9757333\ttotal: 28.5s\tremaining: 29.7s\n",
      "49:\tlearn: 0.9769333\ttotal: 29.1s\tremaining: 29.1s\n",
      "50:\tlearn: 0.9766667\ttotal: 29.6s\tremaining: 28.4s\n",
      "51:\tlearn: 0.9770667\ttotal: 30.1s\tremaining: 27.8s\n",
      "52:\tlearn: 0.9785333\ttotal: 30.6s\tremaining: 27.1s\n",
      "53:\tlearn: 0.9788000\ttotal: 31.1s\tremaining: 26.5s\n",
      "54:\tlearn: 0.9793333\ttotal: 31.7s\tremaining: 25.9s\n",
      "55:\tlearn: 0.9800000\ttotal: 32.2s\tremaining: 25.3s\n",
      "56:\tlearn: 0.9802667\ttotal: 32.7s\tremaining: 24.7s\n",
      "57:\tlearn: 0.9805333\ttotal: 33.3s\tremaining: 24.1s\n",
      "58:\tlearn: 0.9808000\ttotal: 33.8s\tremaining: 23.5s\n",
      "59:\tlearn: 0.9798667\ttotal: 34.3s\tremaining: 22.9s\n",
      "60:\tlearn: 0.9809333\ttotal: 34.8s\tremaining: 22.3s\n",
      "61:\tlearn: 0.9810667\ttotal: 35.4s\tremaining: 21.7s\n",
      "62:\tlearn: 0.9816000\ttotal: 35.9s\tremaining: 21.1s\n",
      "63:\tlearn: 0.9824000\ttotal: 36.4s\tremaining: 20.5s\n",
      "64:\tlearn: 0.9826667\ttotal: 37s\tremaining: 19.9s\n",
      "65:\tlearn: 0.9828000\ttotal: 37.5s\tremaining: 19.3s\n",
      "66:\tlearn: 0.9840000\ttotal: 38s\tremaining: 18.7s\n",
      "67:\tlearn: 0.9838667\ttotal: 38.6s\tremaining: 18.1s\n",
      "68:\tlearn: 0.9840000\ttotal: 39.1s\tremaining: 17.6s\n",
      "69:\tlearn: 0.9840000\ttotal: 39.6s\tremaining: 17s\n",
      "70:\tlearn: 0.9837333\ttotal: 40.1s\tremaining: 16.4s\n",
      "71:\tlearn: 0.9837333\ttotal: 40.6s\tremaining: 15.8s\n",
      "72:\tlearn: 0.9838667\ttotal: 41.2s\tremaining: 15.2s\n",
      "73:\tlearn: 0.9842667\ttotal: 41.7s\tremaining: 14.6s\n",
      "74:\tlearn: 0.9850667\ttotal: 42.2s\tremaining: 14.1s\n",
      "75:\tlearn: 0.9856000\ttotal: 42.7s\tremaining: 13.5s\n",
      "76:\tlearn: 0.9853333\ttotal: 43.2s\tremaining: 12.9s\n",
      "77:\tlearn: 0.9853333\ttotal: 43.7s\tremaining: 12.3s\n",
      "78:\tlearn: 0.9853333\ttotal: 44.3s\tremaining: 11.8s\n",
      "79:\tlearn: 0.9856000\ttotal: 44.8s\tremaining: 11.2s\n",
      "80:\tlearn: 0.9857333\ttotal: 45.3s\tremaining: 10.6s\n",
      "81:\tlearn: 0.9862667\ttotal: 45.8s\tremaining: 10.1s\n",
      "82:\tlearn: 0.9861333\ttotal: 46.4s\tremaining: 9.49s\n",
      "83:\tlearn: 0.9860000\ttotal: 47s\tremaining: 8.95s\n",
      "84:\tlearn: 0.9864000\ttotal: 47.6s\tremaining: 8.4s\n",
      "85:\tlearn: 0.9862667\ttotal: 48.3s\tremaining: 7.86s\n",
      "86:\tlearn: 0.9866667\ttotal: 48.9s\tremaining: 7.31s\n",
      "87:\tlearn: 0.9868000\ttotal: 49.4s\tremaining: 6.74s\n",
      "88:\tlearn: 0.9869333\ttotal: 50s\tremaining: 6.18s\n",
      "89:\tlearn: 0.9868000\ttotal: 50s\tremaining: 5.56s\n",
      "90:\tlearn: 0.9869333\ttotal: 50.6s\tremaining: 5s\n",
      "91:\tlearn: 0.9874667\ttotal: 51.2s\tremaining: 4.45s\n",
      "92:\tlearn: 0.9872000\ttotal: 51.7s\tremaining: 3.89s\n",
      "93:\tlearn: 0.9872000\ttotal: 52.2s\tremaining: 3.33s\n",
      "94:\tlearn: 0.9873333\ttotal: 52.8s\tremaining: 2.78s\n",
      "95:\tlearn: 0.9884000\ttotal: 53.3s\tremaining: 2.22s\n",
      "96:\tlearn: 0.9885333\ttotal: 53.9s\tremaining: 1.67s\n",
      "97:\tlearn: 0.9888000\ttotal: 54.4s\tremaining: 1.11s\n",
      "98:\tlearn: 0.9888000\ttotal: 54.9s\tremaining: 555ms\n",
      "99:\tlearn: 0.9894667\ttotal: 55.5s\tremaining: 0us\n"
     ]
    },
    {
     "data": {
      "text/plain": [
       "<catboost.core.CatBoostClassifier at 0x13a6ae48>"
      ]
     },
     "execution_count": 172,
     "metadata": {},
     "output_type": "execute_result"
    }
   ],
   "source": [
    "from catboost import CatBoostClassifier\n",
    "model=CatBoostClassifier(iterations=100, depth=9, learning_rate=0.4, loss_function='MultiClass',\n",
    "                         eval_metric='Accuracy')\n",
    "model.fit(x_train,y_train)"
   ]
  },
  {
   "cell_type": "code",
   "execution_count": 173,
   "metadata": {},
   "outputs": [
    {
     "data": {
      "text/plain": [
       "0.6732"
      ]
     },
     "execution_count": 173,
     "metadata": {},
     "output_type": "execute_result"
    }
   ],
   "source": [
    "from sklearn.ensemble import GradientBoostingClassifier\n",
    "gab=GradientBoostingClassifier(n_estimators=3,subsample=0.9)\n",
    "gab.fit(x_train,y_train)\n",
    "gab.score(x_test,y_test)"
   ]
  },
  {
   "cell_type": "code",
   "execution_count": 174,
   "metadata": {},
   "outputs": [
    {
     "data": {
      "text/plain": [
       "0.6796"
      ]
     },
     "execution_count": 174,
     "metadata": {},
     "output_type": "execute_result"
    }
   ],
   "source": [
    "gab.score(x_train,y_train)"
   ]
  },
  {
   "cell_type": "code",
   "execution_count": 175,
   "metadata": {},
   "outputs": [],
   "source": [
    "y_test=model.predict(test)"
   ]
  },
  {
   "cell_type": "code",
   "execution_count": 176,
   "metadata": {},
   "outputs": [],
   "source": [
    "y_test=pd.DataFrame(y_test,columns=['Severity'])\n",
    "y_test=y_test['Severity'].astype('int')"
   ]
  },
  {
   "cell_type": "code",
   "execution_count": 177,
   "metadata": {},
   "outputs": [
    {
     "name": "stderr",
     "output_type": "stream",
     "text": [
      "C:\\Users\\user\\Anaconda2\\lib\\site-packages\\sklearn\\preprocessing\\label.py:151: DeprecationWarning: The truth value of an empty array is ambiguous. Returning False, but in future this will result in an error. Use `array.size > 0` to check that an array is not empty.\n",
      "  if diff:\n"
     ]
    }
   ],
   "source": [
    "y_test=lb.inverse_transform(y_test)"
   ]
  },
  {
   "cell_type": "code",
   "execution_count": 178,
   "metadata": {},
   "outputs": [
    {
     "data": {
      "text/plain": [
       "array(['Highly_Fatal_And_Damaging', 'Significant_Damage_And_Fatalities',\n",
       "       'Significant_Damage_And_Serious_Injuries', ...,\n",
       "       'Significant_Damage_And_Serious_Injuries',\n",
       "       'Significant_Damage_And_Serious_Injuries',\n",
       "       'Highly_Fatal_And_Damaging'], dtype=object)"
      ]
     },
     "execution_count": 178,
     "metadata": {},
     "output_type": "execute_result"
    }
   ],
   "source": [
    "y_test"
   ]
  },
  {
   "cell_type": "code",
   "execution_count": 179,
   "metadata": {},
   "outputs": [],
   "source": [
    "sub=pd.DataFrame(y_test,columns=['Severity'])\n",
    "sub['Accident_ID']=id"
   ]
  },
  {
   "cell_type": "code",
   "execution_count": 180,
   "metadata": {},
   "outputs": [],
   "source": [
    "sub=sub[['Accident_ID','Severity']]"
   ]
  },
  {
   "cell_type": "code",
   "execution_count": 181,
   "metadata": {},
   "outputs": [
    {
     "data": {
      "text/plain": [
       "Highly_Fatal_And_Damaging                  758\n",
       "Minor_Damage_And_Injuries                  684\n",
       "Significant_Damage_And_Serious_Injuries    642\n",
       "Significant_Damage_And_Fatalities          416\n",
       "Name: Severity, dtype: int64"
      ]
     },
     "execution_count": 181,
     "metadata": {},
     "output_type": "execute_result"
    }
   ],
   "source": [
    "sub['Severity'].value_counts()"
   ]
  },
  {
   "cell_type": "code",
   "execution_count": 182,
   "metadata": {},
   "outputs": [],
   "source": [
    "sub.to_csv('F:\\\\answer.csv',index=False)"
   ]
  },
  {
   "cell_type": "code",
   "execution_count": 183,
   "metadata": {},
   "outputs": [
    {
     "data": {
      "text/html": [
       "<div>\n",
       "<style scoped>\n",
       "    .dataframe tbody tr th:only-of-type {\n",
       "        vertical-align: middle;\n",
       "    }\n",
       "\n",
       "    .dataframe tbody tr th {\n",
       "        vertical-align: top;\n",
       "    }\n",
       "\n",
       "    .dataframe thead th {\n",
       "        text-align: right;\n",
       "    }\n",
       "</style>\n",
       "<table border=\"1\" class=\"dataframe\">\n",
       "  <thead>\n",
       "    <tr style=\"text-align: right;\">\n",
       "      <th></th>\n",
       "      <th>Accident_ID</th>\n",
       "      <th>Severity</th>\n",
       "    </tr>\n",
       "  </thead>\n",
       "  <tbody>\n",
       "    <tr>\n",
       "      <th>0</th>\n",
       "      <td>1</td>\n",
       "      <td>Highly_Fatal_And_Damaging</td>\n",
       "    </tr>\n",
       "    <tr>\n",
       "      <th>1</th>\n",
       "      <td>10</td>\n",
       "      <td>Significant_Damage_And_Fatalities</td>\n",
       "    </tr>\n",
       "    <tr>\n",
       "      <th>2</th>\n",
       "      <td>14</td>\n",
       "      <td>Significant_Damage_And_Serious_Injuries</td>\n",
       "    </tr>\n",
       "    <tr>\n",
       "      <th>3</th>\n",
       "      <td>17</td>\n",
       "      <td>Highly_Fatal_And_Damaging</td>\n",
       "    </tr>\n",
       "    <tr>\n",
       "      <th>4</th>\n",
       "      <td>21</td>\n",
       "      <td>Significant_Damage_And_Fatalities</td>\n",
       "    </tr>\n",
       "  </tbody>\n",
       "</table>\n",
       "</div>"
      ],
      "text/plain": [
       "   Accident_ID                                 Severity\n",
       "0            1                Highly_Fatal_And_Damaging\n",
       "1           10        Significant_Damage_And_Fatalities\n",
       "2           14  Significant_Damage_And_Serious_Injuries\n",
       "3           17                Highly_Fatal_And_Damaging\n",
       "4           21        Significant_Damage_And_Fatalities"
      ]
     },
     "execution_count": 183,
     "metadata": {},
     "output_type": "execute_result"
    }
   ],
   "source": [
    "sub.head()"
   ]
  },
  {
   "cell_type": "code",
   "execution_count": null,
   "metadata": {},
   "outputs": [],
   "source": []
  },
  {
   "cell_type": "code",
   "execution_count": null,
   "metadata": {},
   "outputs": [],
   "source": []
  },
  {
   "cell_type": "code",
   "execution_count": null,
   "metadata": {},
   "outputs": [],
   "source": []
  }
 ],
 "metadata": {
  "kernelspec": {
   "display_name": "Python 2",
   "language": "python",
   "name": "python2"
  },
  "language_info": {
   "codemirror_mode": {
    "name": "ipython",
    "version": 2
   },
   "file_extension": ".py",
   "mimetype": "text/x-python",
   "name": "python",
   "nbconvert_exporter": "python",
   "pygments_lexer": "ipython2",
   "version": "2.7.14"
  }
 },
 "nbformat": 4,
 "nbformat_minor": 2
}

{
 "cells": [
  {
   "cell_type": "code",
   "execution_count": 1535,
   "metadata": {},
   "outputs": [],
   "source": [
    "import pandas as pd\n",
    "import numpy as np\n",
    "import matplotlib.pyplot as plt"
   ]
  },
  {
   "cell_type": "code",
   "execution_count": 1536,
   "metadata": {},
   "outputs": [
    {
     "data": {
      "text/html": [
       "<div>\n",
       "<style scoped>\n",
       "    .dataframe tbody tr th:only-of-type {\n",
       "        vertical-align: middle;\n",
       "    }\n",
       "\n",
       "    .dataframe tbody tr th {\n",
       "        vertical-align: top;\n",
       "    }\n",
       "\n",
       "    .dataframe thead th {\n",
       "        text-align: right;\n",
       "    }\n",
       "</style>\n",
       "<table border=\"1\" class=\"dataframe\">\n",
       "  <thead>\n",
       "    <tr style=\"text-align: right;\">\n",
       "      <th></th>\n",
       "      <th>location_x</th>\n",
       "      <th>location_y</th>\n",
       "      <th>remaining_min</th>\n",
       "      <th>power_of_shot</th>\n",
       "      <th>knockout_match</th>\n",
       "      <th>game_season</th>\n",
       "      <th>remaining_sec</th>\n",
       "      <th>distance_of_shot</th>\n",
       "      <th>is_goal</th>\n",
       "      <th>area_of_shot</th>\n",
       "      <th>shot_basics</th>\n",
       "      <th>range_of_shot</th>\n",
       "      <th>shot_id_number</th>\n",
       "      <th>type_of_combined_shot</th>\n",
       "      <th>remaining_min.1</th>\n",
       "      <th>power_of_shot.1</th>\n",
       "      <th>knockout_match.1</th>\n",
       "      <th>distance_of_shot.1</th>\n",
       "    </tr>\n",
       "  </thead>\n",
       "  <tbody>\n",
       "    <tr>\n",
       "      <th>0</th>\n",
       "      <td>167.0</td>\n",
       "      <td>72.0</td>\n",
       "      <td>10.0</td>\n",
       "      <td>1.0</td>\n",
       "      <td>0.0</td>\n",
       "      <td>2000-01</td>\n",
       "      <td>27.0</td>\n",
       "      <td>38.0</td>\n",
       "      <td>NaN</td>\n",
       "      <td>Right Side(R)</td>\n",
       "      <td>Mid Range</td>\n",
       "      <td>16-24 ft.</td>\n",
       "      <td>1.0</td>\n",
       "      <td>NaN</td>\n",
       "      <td>10.00</td>\n",
       "      <td>1.0</td>\n",
       "      <td>50.608</td>\n",
       "      <td>38.0</td>\n",
       "    </tr>\n",
       "    <tr>\n",
       "      <th>1</th>\n",
       "      <td>-157.0</td>\n",
       "      <td>0.0</td>\n",
       "      <td>10.0</td>\n",
       "      <td>1.0</td>\n",
       "      <td>0.0</td>\n",
       "      <td>2000-01</td>\n",
       "      <td>22.0</td>\n",
       "      <td>35.0</td>\n",
       "      <td>0.0</td>\n",
       "      <td>Left Side(L)</td>\n",
       "      <td>Mid Range</td>\n",
       "      <td>8-16 ft.</td>\n",
       "      <td>2.0</td>\n",
       "      <td>NaN</td>\n",
       "      <td>10.00</td>\n",
       "      <td>1.0</td>\n",
       "      <td>28.800</td>\n",
       "      <td>35.0</td>\n",
       "    </tr>\n",
       "    <tr>\n",
       "      <th>2</th>\n",
       "      <td>-101.0</td>\n",
       "      <td>135.0</td>\n",
       "      <td>7.0</td>\n",
       "      <td>1.0</td>\n",
       "      <td>0.0</td>\n",
       "      <td>2000-01</td>\n",
       "      <td>45.0</td>\n",
       "      <td>36.0</td>\n",
       "      <td>1.0</td>\n",
       "      <td>Left Side Center(LC)</td>\n",
       "      <td>Mid Range</td>\n",
       "      <td>16-24 ft.</td>\n",
       "      <td>3.0</td>\n",
       "      <td>NaN</td>\n",
       "      <td>92.64</td>\n",
       "      <td>1.0</td>\n",
       "      <td>0.000</td>\n",
       "      <td>54.4</td>\n",
       "    </tr>\n",
       "    <tr>\n",
       "      <th>3</th>\n",
       "      <td>138.0</td>\n",
       "      <td>175.0</td>\n",
       "      <td>6.0</td>\n",
       "      <td>1.0</td>\n",
       "      <td>0.0</td>\n",
       "      <td>2000-01</td>\n",
       "      <td>52.0</td>\n",
       "      <td>42.0</td>\n",
       "      <td>0.0</td>\n",
       "      <td>Right Side Center(RC)</td>\n",
       "      <td>Mid Range</td>\n",
       "      <td>16-24 ft.</td>\n",
       "      <td>4.0</td>\n",
       "      <td>shot - 3</td>\n",
       "      <td>NaN</td>\n",
       "      <td>1.0</td>\n",
       "      <td>122.608</td>\n",
       "      <td>42.0</td>\n",
       "    </tr>\n",
       "    <tr>\n",
       "      <th>4</th>\n",
       "      <td>0.0</td>\n",
       "      <td>0.0</td>\n",
       "      <td>NaN</td>\n",
       "      <td>2.0</td>\n",
       "      <td>0.0</td>\n",
       "      <td>2000-01</td>\n",
       "      <td>19.0</td>\n",
       "      <td>20.0</td>\n",
       "      <td>1.0</td>\n",
       "      <td>Center(C)</td>\n",
       "      <td>Goal Area</td>\n",
       "      <td>Less Than 8 ft.</td>\n",
       "      <td>5.0</td>\n",
       "      <td>shot - 1</td>\n",
       "      <td>42.64</td>\n",
       "      <td>2.0</td>\n",
       "      <td>0.000</td>\n",
       "      <td>20.0</td>\n",
       "    </tr>\n",
       "  </tbody>\n",
       "</table>\n",
       "</div>"
      ],
      "text/plain": [
       "   location_x  location_y  remaining_min  power_of_shot  knockout_match  \\\n",
       "0       167.0        72.0           10.0            1.0             0.0   \n",
       "1      -157.0         0.0           10.0            1.0             0.0   \n",
       "2      -101.0       135.0            7.0            1.0             0.0   \n",
       "3       138.0       175.0            6.0            1.0             0.0   \n",
       "4         0.0         0.0            NaN            2.0             0.0   \n",
       "\n",
       "  game_season  remaining_sec  distance_of_shot  is_goal  \\\n",
       "0     2000-01           27.0              38.0      NaN   \n",
       "1     2000-01           22.0              35.0      0.0   \n",
       "2     2000-01           45.0              36.0      1.0   \n",
       "3     2000-01           52.0              42.0      0.0   \n",
       "4     2000-01           19.0              20.0      1.0   \n",
       "\n",
       "            area_of_shot shot_basics    range_of_shot  shot_id_number  \\\n",
       "0          Right Side(R)   Mid Range        16-24 ft.             1.0   \n",
       "1           Left Side(L)   Mid Range         8-16 ft.             2.0   \n",
       "2   Left Side Center(LC)   Mid Range        16-24 ft.             3.0   \n",
       "3  Right Side Center(RC)   Mid Range        16-24 ft.             4.0   \n",
       "4              Center(C)   Goal Area  Less Than 8 ft.             5.0   \n",
       "\n",
       "  type_of_combined_shot  remaining_min.1  power_of_shot.1  knockout_match.1  \\\n",
       "0                   NaN            10.00              1.0            50.608   \n",
       "1                   NaN            10.00              1.0            28.800   \n",
       "2                   NaN            92.64              1.0             0.000   \n",
       "3              shot - 3              NaN              1.0           122.608   \n",
       "4              shot - 1            42.64              2.0             0.000   \n",
       "\n",
       "   distance_of_shot.1  \n",
       "0                38.0  \n",
       "1                35.0  \n",
       "2                54.4  \n",
       "3                42.0  \n",
       "4                20.0  "
      ]
     },
     "execution_count": 1536,
     "metadata": {},
     "output_type": "execute_result"
    }
   ],
   "source": [
    "df1=pd.read_csv('F:\\\\data.csv')\n",
    "df1=df1.drop(['match_event_id','date_of_game','remaining_sec.1','team_id','team_name','match_id','home/away','type_of_shot','lat/lng'],1)\n",
    "df1.head()"
   ]
  },
  {
   "cell_type": "code",
   "execution_count": 1537,
   "metadata": {},
   "outputs": [],
   "source": [
    "#df1['type_of_shot'].isnull().sum()"
   ]
  },
  {
   "cell_type": "code",
   "execution_count": 1538,
   "metadata": {},
   "outputs": [],
   "source": [
    "df1['game_season']=df1['game_season'].ffill()\n",
    "df1['game_season_year']=df1['game_season'].str.split('-').str[0]\n",
    "df1['game_season_month']=df1['game_season'].str.split('-').str[1]\n",
    "df1=df1.drop('game_season',1)"
   ]
  },
  {
   "cell_type": "code",
   "execution_count": 1539,
   "metadata": {},
   "outputs": [],
   "source": [
    "#sample=pd.read_csv('F:\\\\sample_submission.csv')\n",
    "#df1=df1.join(sample)\n",
    "#sample.shape\n",
    "df1['type_of_combined_shot']=df1['type_of_combined_shot'].str.split('-').str[1]\n",
    "df1['type_of_combined_shot']=df1['type_of_combined_shot'].ffill()\n",
    "df1=df1.drop('type_of_combined_shot',1)"
   ]
  },
  {
   "cell_type": "code",
   "execution_count": 1540,
   "metadata": {},
   "outputs": [],
   "source": [
    "test=df1[df1['is_goal'].isnull()]\n",
    "test.shape\n",
    "shot_id=test['shot_id_number']\n",
    "test=test.drop('shot_id_number',1)\n",
    "#test['shot_id_number'].isnull().sum()"
   ]
  },
  {
   "cell_type": "code",
   "execution_count": 1541,
   "metadata": {},
   "outputs": [],
   "source": [
    "#test=test.drop('game_season',1)"
   ]
  },
  {
   "cell_type": "code",
   "execution_count": 1542,
   "metadata": {},
   "outputs": [],
   "source": [
    "df=df1[df1['is_goal'].notnull()]\n",
    "df=df.drop('shot_id_number',1)\n",
    "#df=df.drop('game_season',1)"
   ]
  },
  {
   "cell_type": "code",
   "execution_count": 1543,
   "metadata": {},
   "outputs": [
    {
     "data": {
      "text/plain": [
       "Index([u'location_x', u'location_y', u'remaining_min', u'power_of_shot',\n",
       "       u'knockout_match', u'remaining_sec', u'distance_of_shot', u'is_goal',\n",
       "       u'area_of_shot', u'shot_basics', u'range_of_shot', u'remaining_min.1',\n",
       "       u'power_of_shot.1', u'knockout_match.1', u'distance_of_shot.1',\n",
       "       u'game_season_year', u'game_season_month'],\n",
       "      dtype='object')"
      ]
     },
     "execution_count": 1543,
     "metadata": {},
     "output_type": "execute_result"
    }
   ],
   "source": [
    "df.columns"
   ]
  },
  {
   "cell_type": "code",
   "execution_count": 1544,
   "metadata": {},
   "outputs": [
    {
     "data": {
      "text/plain": [
       "location_x             305\n",
       "location_y             295\n",
       "remaining_min          318\n",
       "power_of_shot          286\n",
       "knockout_match         305\n",
       "remaining_sec          344\n",
       "distance_of_shot       310\n",
       "is_goal               6268\n",
       "area_of_shot           320\n",
       "shot_basics            292\n",
       "range_of_shot          316\n",
       "remaining_min.1        326\n",
       "power_of_shot.1        331\n",
       "knockout_match.1       279\n",
       "distance_of_shot.1     324\n",
       "game_season_year         0\n",
       "game_season_month        0\n",
       "dtype: int64"
      ]
     },
     "execution_count": 1544,
     "metadata": {},
     "output_type": "execute_result"
    }
   ],
   "source": [
    "test.isnull().sum()"
   ]
  },
  {
   "cell_type": "code",
   "execution_count": 1545,
   "metadata": {},
   "outputs": [],
   "source": [
    "df['shot_basics']=df['shot_basics'].fillna('Mid Range')\n",
    "test['shot_basics']=test['shot_basics'].fillna('Mid Range')"
   ]
  },
  {
   "cell_type": "code",
   "execution_count": 1546,
   "metadata": {},
   "outputs": [],
   "source": [
    "df['location_x']=df['location_x'].ffill()\n",
    "test['location_x']=test['location_x'].ffill()"
   ]
  },
  {
   "cell_type": "code",
   "execution_count": 1547,
   "metadata": {},
   "outputs": [],
   "source": [
    "df['remaining_min']=df['remaining_min'].fillna(0.0)\n",
    "test['remaining_min']=test['remaining_min'].fillna(0.0)"
   ]
  },
  {
   "cell_type": "code",
   "execution_count": 1548,
   "metadata": {},
   "outputs": [],
   "source": [
    "df['power_of_shot']=df['power_of_shot'].fillna(3.0)\n",
    "test['power_of_shot']=test['power_of_shot'].fillna(3.0)"
   ]
  },
  {
   "cell_type": "code",
   "execution_count": 1549,
   "metadata": {},
   "outputs": [],
   "source": [
    "df['knockout_match']=df['knockout_match'].fillna(0.0)\n",
    "test['knockout_match']=test['knockout_match'].fillna(0.0)"
   ]
  },
  {
   "cell_type": "code",
   "execution_count": 1550,
   "metadata": {},
   "outputs": [],
   "source": [
    "df['remaining_sec']=df['remaining_sec'].fillna(0.0)\n",
    "test['remaining_sec']=test['remaining_sec'].fillna(0.0)"
   ]
  },
  {
   "cell_type": "code",
   "execution_count": 1551,
   "metadata": {},
   "outputs": [],
   "source": [
    "df['distance_of_shot']=df['distance_of_shot'].fillna(20.0)\n",
    "test['distance_of_shot']=test['distance_of_shot'].fillna(20.0)"
   ]
  },
  {
   "cell_type": "code",
   "execution_count": 1552,
   "metadata": {},
   "outputs": [],
   "source": [
    "df['area_of_shot']=df['area_of_shot'].fillna('Center(C)')\n",
    "test['area_of_shot']=test['area_of_shot'].fillna('Center(C)')"
   ]
  },
  {
   "cell_type": "code",
   "execution_count": 1553,
   "metadata": {},
   "outputs": [],
   "source": [
    "df['shot_basics']=df['shot_basics'].fillna('Mid Range')\n",
    "test['shot_basics']=test['shot_basics'].fillna('Mid Range')"
   ]
  },
  {
   "cell_type": "code",
   "execution_count": 1554,
   "metadata": {},
   "outputs": [],
   "source": [
    "df['range_of_shot']=df['range_of_shot'].fillna('Less Than 8 ft.')\n",
    "test['range_of_shot']=test['range_of_shot'].fillna('Less Than 8 ft.')"
   ]
  },
  {
   "cell_type": "code",
   "execution_count": 1555,
   "metadata": {},
   "outputs": [],
   "source": [
    "df['remaining_min.1']=df['remaining_min.1'].fillna(18.15)\n",
    "test['remaining_min.1']=test['remaining_min.1'].fillna(18.15)"
   ]
  },
  {
   "cell_type": "code",
   "execution_count": 1556,
   "metadata": {},
   "outputs": [],
   "source": [
    "df['power_of_shot.1']=df['power_of_shot.1'].ffill()\n",
    "test['power_of_shot.1']=test['power_of_shot.1'].ffill()"
   ]
  },
  {
   "cell_type": "code",
   "execution_count": 1557,
   "metadata": {},
   "outputs": [],
   "source": [
    "df['knockout_match.1']=df['knockout_match.1'].ffill()\n",
    "test['knockout_match.1']=test['knockout_match.1'].ffill()"
   ]
  },
  {
   "cell_type": "code",
   "execution_count": 1558,
   "metadata": {},
   "outputs": [],
   "source": [
    "df['distance_of_shot.1']=df['distance_of_shot.1'].fillna(20.000)\n",
    "test['distance_of_shot.1']=test['distance_of_shot.1'].fillna(20.000)"
   ]
  },
  {
   "cell_type": "code",
   "execution_count": 1559,
   "metadata": {},
   "outputs": [],
   "source": [
    "df['location_y']=df['location_y'].ffill()\n",
    "test['location_y']=test['location_y'].ffill()"
   ]
  },
  {
   "cell_type": "code",
   "execution_count": 1560,
   "metadata": {},
   "outputs": [
    {
     "name": "stdout",
     "output_type": "stream",
     "text": [
      "<class 'pandas.core.frame.DataFrame'>\n",
      "Int64Index: 24429 entries, 1 to 30696\n",
      "Data columns (total 17 columns):\n",
      "location_x            24429 non-null float64\n",
      "location_y            24429 non-null float64\n",
      "remaining_min         24429 non-null float64\n",
      "power_of_shot         24429 non-null float64\n",
      "knockout_match        24429 non-null float64\n",
      "remaining_sec         24429 non-null float64\n",
      "distance_of_shot      24429 non-null float64\n",
      "is_goal               24429 non-null float64\n",
      "area_of_shot          24429 non-null object\n",
      "shot_basics           24429 non-null object\n",
      "range_of_shot         24429 non-null object\n",
      "remaining_min.1       24429 non-null float64\n",
      "power_of_shot.1       24429 non-null float64\n",
      "knockout_match.1      24429 non-null float64\n",
      "distance_of_shot.1    24429 non-null float64\n",
      "game_season_year      24429 non-null object\n",
      "game_season_month     24429 non-null object\n",
      "dtypes: float64(12), object(5)\n",
      "memory usage: 3.4+ MB\n"
     ]
    }
   ],
   "source": [
    "df.info()"
   ]
  },
  {
   "cell_type": "code",
   "execution_count": 1561,
   "metadata": {},
   "outputs": [
    {
     "data": {
      "text/plain": [
       "Center(C)                11359\n",
       "Right Side Center(RC)     3616\n",
       "Right Side(R)             3504\n",
       "Left Side Center(LC)      3031\n",
       "Left Side(L)              2848\n",
       "Mid Ground(MG)              71\n",
       "Name: area_of_shot, dtype: int64"
      ]
     },
     "execution_count": 1561,
     "metadata": {},
     "output_type": "execute_result"
    }
   ],
   "source": [
    "df['area_of_shot'].value_counts()"
   ]
  },
  {
   "cell_type": "code",
   "execution_count": 1562,
   "metadata": {},
   "outputs": [
    {
     "data": {
      "text/plain": [
       "(24429, 6)"
      ]
     },
     "execution_count": 1562,
     "metadata": {},
     "output_type": "execute_result"
    }
   ],
   "source": [
    "area=pd.get_dummies(df['area_of_shot'])\n",
    "df=df.join(area)\n",
    "df=df.drop('area_of_shot',1)\n",
    "area.shape"
   ]
  },
  {
   "cell_type": "code",
   "execution_count": 1563,
   "metadata": {},
   "outputs": [
    {
     "data": {
      "text/plain": [
       "(6268, 6)"
      ]
     },
     "execution_count": 1563,
     "metadata": {},
     "output_type": "execute_result"
    }
   ],
   "source": [
    "area1=pd.get_dummies(test['area_of_shot'])\n",
    "test=test.join(area1)\n",
    "test=test.drop('area_of_shot',1)\n",
    "area1.shape"
   ]
  },
  {
   "cell_type": "code",
   "execution_count": 1564,
   "metadata": {},
   "outputs": [
    {
     "data": {
      "text/plain": [
       "(24429, 7)"
      ]
     },
     "execution_count": 1564,
     "metadata": {},
     "output_type": "execute_result"
    }
   ],
   "source": [
    "basics=pd.get_dummies(df['shot_basics'])\n",
    "df=df.join(basics)\n",
    "df=df.drop('shot_basics',1)\n",
    "basics.shape"
   ]
  },
  {
   "cell_type": "code",
   "execution_count": 1565,
   "metadata": {},
   "outputs": [
    {
     "data": {
      "text/plain": [
       "(6268, 7)"
      ]
     },
     "execution_count": 1565,
     "metadata": {},
     "output_type": "execute_result"
    }
   ],
   "source": [
    "basics1=pd.get_dummies(test['shot_basics'])\n",
    "test=test.join(basics1)\n",
    "test=test.drop('shot_basics',1)\n",
    "basics1.shape"
   ]
  },
  {
   "cell_type": "code",
   "execution_count": 1566,
   "metadata": {},
   "outputs": [
    {
     "data": {
      "text/plain": [
       "(24429, 5)"
      ]
     },
     "execution_count": 1566,
     "metadata": {},
     "output_type": "execute_result"
    }
   ],
   "source": [
    "range_=pd.get_dummies(df['range_of_shot'])\n",
    "df=df.join(range_)\n",
    "df=df.drop('range_of_shot',1)\n",
    "range_.shape"
   ]
  },
  {
   "cell_type": "code",
   "execution_count": 1567,
   "metadata": {},
   "outputs": [
    {
     "data": {
      "text/plain": [
       "(6268, 5)"
      ]
     },
     "execution_count": 1567,
     "metadata": {},
     "output_type": "execute_result"
    }
   ],
   "source": [
    "range_1=pd.get_dummies(test['range_of_shot'])\n",
    "test=test.join(range_1)\n",
    "test=test.drop('range_of_shot',1)\n",
    "range_1.shape"
   ]
  },
  {
   "cell_type": "code",
   "execution_count": 1568,
   "metadata": {},
   "outputs": [
    {
     "data": {
      "text/plain": [
       "(6268, 32)"
      ]
     },
     "execution_count": 1568,
     "metadata": {},
     "output_type": "execute_result"
    }
   ],
   "source": [
    "test.shape"
   ]
  },
  {
   "cell_type": "code",
   "execution_count": 1569,
   "metadata": {},
   "outputs": [
    {
     "data": {
      "text/html": [
       "<div>\n",
       "<style scoped>\n",
       "    .dataframe tbody tr th:only-of-type {\n",
       "        vertical-align: middle;\n",
       "    }\n",
       "\n",
       "    .dataframe tbody tr th {\n",
       "        vertical-align: top;\n",
       "    }\n",
       "\n",
       "    .dataframe thead th {\n",
       "        text-align: right;\n",
       "    }\n",
       "</style>\n",
       "<table border=\"1\" class=\"dataframe\">\n",
       "  <thead>\n",
       "    <tr style=\"text-align: right;\">\n",
       "      <th></th>\n",
       "      <th>location_x</th>\n",
       "      <th>location_y</th>\n",
       "      <th>remaining_min</th>\n",
       "      <th>power_of_shot</th>\n",
       "      <th>knockout_match</th>\n",
       "      <th>remaining_sec</th>\n",
       "      <th>distance_of_shot</th>\n",
       "      <th>is_goal</th>\n",
       "      <th>remaining_min.1</th>\n",
       "      <th>power_of_shot.1</th>\n",
       "      <th>...</th>\n",
       "      <th>Left Corner</th>\n",
       "      <th>Mid Ground Line</th>\n",
       "      <th>Mid Range</th>\n",
       "      <th>Penalty Spot</th>\n",
       "      <th>Right Corner</th>\n",
       "      <th>16-24 ft.</th>\n",
       "      <th>24+ ft.</th>\n",
       "      <th>8-16 ft.</th>\n",
       "      <th>Back Court Shot</th>\n",
       "      <th>Less Than 8 ft.</th>\n",
       "    </tr>\n",
       "  </thead>\n",
       "  <tbody>\n",
       "    <tr>\n",
       "      <th>1</th>\n",
       "      <td>-157.0</td>\n",
       "      <td>0.0</td>\n",
       "      <td>10.0</td>\n",
       "      <td>1.0</td>\n",
       "      <td>0.0</td>\n",
       "      <td>22.0</td>\n",
       "      <td>35.0</td>\n",
       "      <td>0.0</td>\n",
       "      <td>10.00</td>\n",
       "      <td>1.0</td>\n",
       "      <td>...</td>\n",
       "      <td>0</td>\n",
       "      <td>0</td>\n",
       "      <td>1</td>\n",
       "      <td>0</td>\n",
       "      <td>0</td>\n",
       "      <td>0</td>\n",
       "      <td>0</td>\n",
       "      <td>1</td>\n",
       "      <td>0</td>\n",
       "      <td>0</td>\n",
       "    </tr>\n",
       "    <tr>\n",
       "      <th>2</th>\n",
       "      <td>-101.0</td>\n",
       "      <td>135.0</td>\n",
       "      <td>7.0</td>\n",
       "      <td>1.0</td>\n",
       "      <td>0.0</td>\n",
       "      <td>45.0</td>\n",
       "      <td>36.0</td>\n",
       "      <td>1.0</td>\n",
       "      <td>92.64</td>\n",
       "      <td>1.0</td>\n",
       "      <td>...</td>\n",
       "      <td>0</td>\n",
       "      <td>0</td>\n",
       "      <td>1</td>\n",
       "      <td>0</td>\n",
       "      <td>0</td>\n",
       "      <td>1</td>\n",
       "      <td>0</td>\n",
       "      <td>0</td>\n",
       "      <td>0</td>\n",
       "      <td>0</td>\n",
       "    </tr>\n",
       "  </tbody>\n",
       "</table>\n",
       "<p>2 rows × 32 columns</p>\n",
       "</div>"
      ],
      "text/plain": [
       "   location_x  location_y  remaining_min  power_of_shot  knockout_match  \\\n",
       "1      -157.0         0.0           10.0            1.0             0.0   \n",
       "2      -101.0       135.0            7.0            1.0             0.0   \n",
       "\n",
       "   remaining_sec  distance_of_shot  is_goal  remaining_min.1  power_of_shot.1  \\\n",
       "1           22.0              35.0      0.0            10.00              1.0   \n",
       "2           45.0              36.0      1.0            92.64              1.0   \n",
       "\n",
       "   ...  Left Corner  Mid Ground Line Mid Range Penalty Spot  Right Corner  \\\n",
       "1  ...            0                0         1            0             0   \n",
       "2  ...            0                0         1            0             0   \n",
       "\n",
       "   16-24 ft.  24+ ft.  8-16 ft.  Back Court Shot  Less Than 8 ft.  \n",
       "1          0        0         1                0                0  \n",
       "2          1        0         0                0                0  \n",
       "\n",
       "[2 rows x 32 columns]"
      ]
     },
     "execution_count": 1569,
     "metadata": {},
     "output_type": "execute_result"
    }
   ],
   "source": [
    "df.shape\n",
    "df.head(2)"
   ]
  },
  {
   "cell_type": "code",
   "execution_count": null,
   "metadata": {},
   "outputs": [],
   "source": []
  },
  {
   "cell_type": "code",
   "execution_count": 1570,
   "metadata": {},
   "outputs": [],
   "source": [
    "#import seaborn as sns\n",
    "#sns.set()\n",
    "#df['is_goal']=df['is_goal'].astype('category')\n",
    "#sns.boxplot(x=df['remaining_min.1'],y=df['is_goal'])\n",
    "#plt.scatter(df['location_x'],y=df['is_goal'],marker='.')"
   ]
  },
  {
   "cell_type": "code",
   "execution_count": 1571,
   "metadata": {},
   "outputs": [],
   "source": [
    "#df['is_goal']=df['is_goal'].astype('float')"
   ]
  },
  {
   "cell_type": "code",
   "execution_count": 1572,
   "metadata": {},
   "outputs": [],
   "source": [
    "from sklearn.model_selection import train_test_split\n",
    "from sklearn.tree import DecisionTreeClassifier\n",
    "from sklearn.linear_model import LogisticRegression\n",
    "from sklearn.metrics import roc_auc_score\n",
    "from sklearn.tree import DecisionTreeRegressor\n",
    "from sklearn.metrics import mean_squared_error\n",
    "import numpy as np"
   ]
  },
  {
   "cell_type": "code",
   "execution_count": 1573,
   "metadata": {},
   "outputs": [],
   "source": [
    "x=df.drop('is_goal',1)\n",
    "y=df['is_goal']"
   ]
  },
  {
   "cell_type": "code",
   "execution_count": 1590,
   "metadata": {},
   "outputs": [],
   "source": [
    "x_train,x_test,y_train,y_test = train_test_split(x,y,random_state=42,stratify=y)"
   ]
  },
  {
   "cell_type": "code",
   "execution_count": 1588,
   "metadata": {},
   "outputs": [
    {
     "name": "stdout",
     "output_type": "stream",
     "text": [
      "0:\tlearn: 0.6091240\ttotal: 58.2ms\tremaining: 0us\n"
     ]
    },
    {
     "data": {
      "text/plain": [
       "array([ 0.        ,  0.        ,  0.        ,  0.        ,  0.        ,\n",
       "        0.        ,  0.        ,  0.        ,  2.29629507,  0.        ,\n",
       "       44.6123938 ,  2.38143969,  0.        ,  0.        ,  0.        ,\n",
       "        0.        ,  0.        ,  0.        ,  0.        ,  0.        ,\n",
       "        0.        ,  0.        ,  0.        ,  0.        ,  0.        ,\n",
       "        0.        ,  0.        ,  0.        ,  0.        ,  0.        ,\n",
       "       50.70987145])"
      ]
     },
     "execution_count": 1588,
     "metadata": {},
     "output_type": "execute_result"
    }
   ],
   "source": [
    "from catboost import CatBoostRegressor\n",
    "model=CatBoostRegressor(iterations=1, depth=4, learning_rate=0.2, loss_function='RMSE',\n",
    "                       )#eval_metric='Accuracy')\n",
    "model.fit(x_train,y_train)\n",
    "model.feature_importances_"
   ]
  },
  {
   "cell_type": "code",
   "execution_count": 1600,
   "metadata": {},
   "outputs": [
    {
     "data": {
      "text/plain": [
       "0.487332544478887"
      ]
     },
     "execution_count": 1600,
     "metadata": {},
     "output_type": "execute_result"
    }
   ],
   "source": [
    "dt1=DecisionTreeRegressor(max_depth=5)\n",
    "dt1.fit(x_train,y_train)\n",
    "y_dt=dt1.predict(x_test)\n",
    "np.sqrt(mean_squared_error(y_test,y_dt))"
   ]
  },
  {
   "cell_type": "code",
   "execution_count": 1577,
   "metadata": {},
   "outputs": [
    {
     "data": {
      "text/plain": [
       "0.49235231530025636"
      ]
     },
     "execution_count": 1577,
     "metadata": {},
     "output_type": "execute_result"
    }
   ],
   "source": [
    "from sklearn.linear_model import Lasso\n",
    "lasso=Lasso()\n",
    "lasso.fit(x_train,y_train)\n",
    "y_lasso=lasso.predict(x_test)\n",
    "np.sqrt(mean_squared_error(y_test,y_lasso))"
   ]
  },
  {
   "cell_type": "code",
   "execution_count": 1578,
   "metadata": {},
   "outputs": [
    {
     "data": {
      "text/plain": [
       "0.49699947431615477"
      ]
     },
     "execution_count": 1578,
     "metadata": {},
     "output_type": "execute_result"
    }
   ],
   "source": [
    "from sklearn.ensemble import BaggingRegressor\n",
    "bag=BaggingRegressor(n_estimators=50)\n",
    "bag.fit(x_train,y_train)\n",
    "y_bag=bag.predict(x_test)\n",
    "np.sqrt(mean_squared_error(y_test,y_bag))"
   ]
  },
  {
   "cell_type": "code",
   "execution_count": 1579,
   "metadata": {},
   "outputs": [
    {
     "data": {
      "text/plain": [
       "0.4850418488775201"
      ]
     },
     "execution_count": 1579,
     "metadata": {},
     "output_type": "execute_result"
    }
   ],
   "source": [
    "from sklearn.ensemble import GradientBoostingRegressor\n",
    "gb1=GradientBoostingRegressor(n_estimators=2,subsample=0.9)\n",
    "gb1.fit(x_train,y_train)\n",
    "y_gb1=gb1.predict(x_test)\n",
    "np.sqrt(mean_squared_error(y_test,y_gb1))"
   ]
  },
  {
   "cell_type": "code",
   "execution_count": 1580,
   "metadata": {},
   "outputs": [],
   "source": [
    "#from xgboost import XGBRegressor\n",
    "#clf= XGBRegressor(n_estimators=200,max_depth=5,subsample=0.9)\n",
    "#clf.fit(x,y)\n",
    "#y_clf=clf.predict(x_test)\n",
    "#np.sqrt(mean_squared_error(y_test,y_clf))"
   ]
  },
  {
   "cell_type": "code",
   "execution_count": 1581,
   "metadata": {},
   "outputs": [],
   "source": [
    "test=test.drop('is_goal',1)"
   ]
  },
  {
   "cell_type": "code",
   "execution_count": 1601,
   "metadata": {},
   "outputs": [],
   "source": [
    "y_test=dt1.predict(test)"
   ]
  },
  {
   "cell_type": "code",
   "execution_count": 1602,
   "metadata": {},
   "outputs": [],
   "source": [
    "sub=pd.DataFrame(y_test)\n",
    "sub.columns=['is_goal']"
   ]
  },
  {
   "cell_type": "code",
   "execution_count": 1603,
   "metadata": {},
   "outputs": [],
   "source": [
    "sub.shape\n",
    "sample=pd.read_csv('F:\\\\sample_submission.csv')"
   ]
  },
  {
   "cell_type": "code",
   "execution_count": 1604,
   "metadata": {},
   "outputs": [],
   "source": [
    "#sub=sub[['shot_id_number','is_goal']]\n",
    "#sub['shot_id_number']"
   ]
  },
  {
   "cell_type": "code",
   "execution_count": 1605,
   "metadata": {},
   "outputs": [],
   "source": [
    "sub.to_csv('F:\\\\answer.csv')"
   ]
  },
  {
   "cell_type": "code",
   "execution_count": 1606,
   "metadata": {},
   "outputs": [
    {
     "data": {
      "text/html": [
       "<div>\n",
       "<style scoped>\n",
       "    .dataframe tbody tr th:only-of-type {\n",
       "        vertical-align: middle;\n",
       "    }\n",
       "\n",
       "    .dataframe tbody tr th {\n",
       "        vertical-align: top;\n",
       "    }\n",
       "\n",
       "    .dataframe thead th {\n",
       "        text-align: right;\n",
       "    }\n",
       "</style>\n",
       "<table border=\"1\" class=\"dataframe\">\n",
       "  <thead>\n",
       "    <tr style=\"text-align: right;\">\n",
       "      <th></th>\n",
       "      <th>is_goal</th>\n",
       "    </tr>\n",
       "  </thead>\n",
       "  <tbody>\n",
       "    <tr>\n",
       "      <th>0</th>\n",
       "      <td>0.408059</td>\n",
       "    </tr>\n",
       "    <tr>\n",
       "      <th>1</th>\n",
       "      <td>0.474178</td>\n",
       "    </tr>\n",
       "    <tr>\n",
       "      <th>2</th>\n",
       "      <td>0.610127</td>\n",
       "    </tr>\n",
       "    <tr>\n",
       "      <th>3</th>\n",
       "      <td>0.454494</td>\n",
       "    </tr>\n",
       "    <tr>\n",
       "      <th>4</th>\n",
       "      <td>0.408059</td>\n",
       "    </tr>\n",
       "    <tr>\n",
       "      <th>5</th>\n",
       "      <td>0.408059</td>\n",
       "    </tr>\n",
       "    <tr>\n",
       "      <th>6</th>\n",
       "      <td>0.408059</td>\n",
       "    </tr>\n",
       "    <tr>\n",
       "      <th>7</th>\n",
       "      <td>0.689034</td>\n",
       "    </tr>\n",
       "    <tr>\n",
       "      <th>8</th>\n",
       "      <td>0.610127</td>\n",
       "    </tr>\n",
       "    <tr>\n",
       "      <th>9</th>\n",
       "      <td>0.610127</td>\n",
       "    </tr>\n",
       "    <tr>\n",
       "      <th>10</th>\n",
       "      <td>0.408059</td>\n",
       "    </tr>\n",
       "    <tr>\n",
       "      <th>11</th>\n",
       "      <td>0.474178</td>\n",
       "    </tr>\n",
       "    <tr>\n",
       "      <th>12</th>\n",
       "      <td>0.408059</td>\n",
       "    </tr>\n",
       "    <tr>\n",
       "      <th>13</th>\n",
       "      <td>0.207792</td>\n",
       "    </tr>\n",
       "    <tr>\n",
       "      <th>14</th>\n",
       "      <td>0.207792</td>\n",
       "    </tr>\n",
       "    <tr>\n",
       "      <th>15</th>\n",
       "      <td>0.454494</td>\n",
       "    </tr>\n",
       "    <tr>\n",
       "      <th>16</th>\n",
       "      <td>0.454494</td>\n",
       "    </tr>\n",
       "    <tr>\n",
       "      <th>17</th>\n",
       "      <td>0.454494</td>\n",
       "    </tr>\n",
       "    <tr>\n",
       "      <th>18</th>\n",
       "      <td>0.408059</td>\n",
       "    </tr>\n",
       "    <tr>\n",
       "      <th>19</th>\n",
       "      <td>0.370843</td>\n",
       "    </tr>\n",
       "    <tr>\n",
       "      <th>20</th>\n",
       "      <td>0.454494</td>\n",
       "    </tr>\n",
       "    <tr>\n",
       "      <th>21</th>\n",
       "      <td>0.454494</td>\n",
       "    </tr>\n",
       "    <tr>\n",
       "      <th>22</th>\n",
       "      <td>0.454494</td>\n",
       "    </tr>\n",
       "    <tr>\n",
       "      <th>23</th>\n",
       "      <td>0.408059</td>\n",
       "    </tr>\n",
       "    <tr>\n",
       "      <th>24</th>\n",
       "      <td>0.408059</td>\n",
       "    </tr>\n",
       "    <tr>\n",
       "      <th>25</th>\n",
       "      <td>0.408059</td>\n",
       "    </tr>\n",
       "    <tr>\n",
       "      <th>26</th>\n",
       "      <td>0.408059</td>\n",
       "    </tr>\n",
       "    <tr>\n",
       "      <th>27</th>\n",
       "      <td>0.408059</td>\n",
       "    </tr>\n",
       "    <tr>\n",
       "      <th>28</th>\n",
       "      <td>0.408059</td>\n",
       "    </tr>\n",
       "    <tr>\n",
       "      <th>29</th>\n",
       "      <td>0.408059</td>\n",
       "    </tr>\n",
       "    <tr>\n",
       "      <th>...</th>\n",
       "      <td>...</td>\n",
       "    </tr>\n",
       "    <tr>\n",
       "      <th>6238</th>\n",
       "      <td>0.408059</td>\n",
       "    </tr>\n",
       "    <tr>\n",
       "      <th>6239</th>\n",
       "      <td>0.595376</td>\n",
       "    </tr>\n",
       "    <tr>\n",
       "      <th>6240</th>\n",
       "      <td>0.408059</td>\n",
       "    </tr>\n",
       "    <tr>\n",
       "      <th>6241</th>\n",
       "      <td>0.370843</td>\n",
       "    </tr>\n",
       "    <tr>\n",
       "      <th>6242</th>\n",
       "      <td>0.454494</td>\n",
       "    </tr>\n",
       "    <tr>\n",
       "      <th>6243</th>\n",
       "      <td>0.689034</td>\n",
       "    </tr>\n",
       "    <tr>\n",
       "      <th>6244</th>\n",
       "      <td>0.408059</td>\n",
       "    </tr>\n",
       "    <tr>\n",
       "      <th>6245</th>\n",
       "      <td>0.408059</td>\n",
       "    </tr>\n",
       "    <tr>\n",
       "      <th>6246</th>\n",
       "      <td>0.454494</td>\n",
       "    </tr>\n",
       "    <tr>\n",
       "      <th>6247</th>\n",
       "      <td>0.408059</td>\n",
       "    </tr>\n",
       "    <tr>\n",
       "      <th>6248</th>\n",
       "      <td>0.408059</td>\n",
       "    </tr>\n",
       "    <tr>\n",
       "      <th>6249</th>\n",
       "      <td>0.408059</td>\n",
       "    </tr>\n",
       "    <tr>\n",
       "      <th>6250</th>\n",
       "      <td>0.408059</td>\n",
       "    </tr>\n",
       "    <tr>\n",
       "      <th>6251</th>\n",
       "      <td>0.454494</td>\n",
       "    </tr>\n",
       "    <tr>\n",
       "      <th>6252</th>\n",
       "      <td>0.500000</td>\n",
       "    </tr>\n",
       "    <tr>\n",
       "      <th>6253</th>\n",
       "      <td>0.000000</td>\n",
       "    </tr>\n",
       "    <tr>\n",
       "      <th>6254</th>\n",
       "      <td>0.408059</td>\n",
       "    </tr>\n",
       "    <tr>\n",
       "      <th>6255</th>\n",
       "      <td>0.408059</td>\n",
       "    </tr>\n",
       "    <tr>\n",
       "      <th>6256</th>\n",
       "      <td>0.597938</td>\n",
       "    </tr>\n",
       "    <tr>\n",
       "      <th>6257</th>\n",
       "      <td>0.408059</td>\n",
       "    </tr>\n",
       "    <tr>\n",
       "      <th>6258</th>\n",
       "      <td>0.408059</td>\n",
       "    </tr>\n",
       "    <tr>\n",
       "      <th>6259</th>\n",
       "      <td>0.454494</td>\n",
       "    </tr>\n",
       "    <tr>\n",
       "      <th>6260</th>\n",
       "      <td>0.408059</td>\n",
       "    </tr>\n",
       "    <tr>\n",
       "      <th>6261</th>\n",
       "      <td>0.610127</td>\n",
       "    </tr>\n",
       "    <tr>\n",
       "      <th>6262</th>\n",
       "      <td>0.610127</td>\n",
       "    </tr>\n",
       "    <tr>\n",
       "      <th>6263</th>\n",
       "      <td>0.370843</td>\n",
       "    </tr>\n",
       "    <tr>\n",
       "      <th>6264</th>\n",
       "      <td>0.454494</td>\n",
       "    </tr>\n",
       "    <tr>\n",
       "      <th>6265</th>\n",
       "      <td>0.408059</td>\n",
       "    </tr>\n",
       "    <tr>\n",
       "      <th>6266</th>\n",
       "      <td>0.454494</td>\n",
       "    </tr>\n",
       "    <tr>\n",
       "      <th>6267</th>\n",
       "      <td>0.595376</td>\n",
       "    </tr>\n",
       "  </tbody>\n",
       "</table>\n",
       "<p>6268 rows × 1 columns</p>\n",
       "</div>"
      ],
      "text/plain": [
       "       is_goal\n",
       "0     0.408059\n",
       "1     0.474178\n",
       "2     0.610127\n",
       "3     0.454494\n",
       "4     0.408059\n",
       "5     0.408059\n",
       "6     0.408059\n",
       "7     0.689034\n",
       "8     0.610127\n",
       "9     0.610127\n",
       "10    0.408059\n",
       "11    0.474178\n",
       "12    0.408059\n",
       "13    0.207792\n",
       "14    0.207792\n",
       "15    0.454494\n",
       "16    0.454494\n",
       "17    0.454494\n",
       "18    0.408059\n",
       "19    0.370843\n",
       "20    0.454494\n",
       "21    0.454494\n",
       "22    0.454494\n",
       "23    0.408059\n",
       "24    0.408059\n",
       "25    0.408059\n",
       "26    0.408059\n",
       "27    0.408059\n",
       "28    0.408059\n",
       "29    0.408059\n",
       "...        ...\n",
       "6238  0.408059\n",
       "6239  0.595376\n",
       "6240  0.408059\n",
       "6241  0.370843\n",
       "6242  0.454494\n",
       "6243  0.689034\n",
       "6244  0.408059\n",
       "6245  0.408059\n",
       "6246  0.454494\n",
       "6247  0.408059\n",
       "6248  0.408059\n",
       "6249  0.408059\n",
       "6250  0.408059\n",
       "6251  0.454494\n",
       "6252  0.500000\n",
       "6253  0.000000\n",
       "6254  0.408059\n",
       "6255  0.408059\n",
       "6256  0.597938\n",
       "6257  0.408059\n",
       "6258  0.408059\n",
       "6259  0.454494\n",
       "6260  0.408059\n",
       "6261  0.610127\n",
       "6262  0.610127\n",
       "6263  0.370843\n",
       "6264  0.454494\n",
       "6265  0.408059\n",
       "6266  0.454494\n",
       "6267  0.595376\n",
       "\n",
       "[6268 rows x 1 columns]"
      ]
     },
     "execution_count": 1606,
     "metadata": {},
     "output_type": "execute_result"
    }
   ],
   "source": [
    "sub"
   ]
  },
  {
   "cell_type": "code",
   "execution_count": null,
   "metadata": {},
   "outputs": [],
   "source": []
  },
  {
   "cell_type": "code",
   "execution_count": null,
   "metadata": {},
   "outputs": [],
   "source": []
  }
 ],
 "metadata": {
  "kernelspec": {
   "display_name": "Python 2",
   "language": "python",
   "name": "python2"
  },
  "language_info": {
   "codemirror_mode": {
    "name": "ipython",
    "version": 2
   },
   "file_extension": ".py",
   "mimetype": "text/x-python",
   "name": "python",
   "nbconvert_exporter": "python",
   "pygments_lexer": "ipython2",
   "version": "2.7.14"
  }
 },
 "nbformat": 4,
 "nbformat_minor": 2
}
